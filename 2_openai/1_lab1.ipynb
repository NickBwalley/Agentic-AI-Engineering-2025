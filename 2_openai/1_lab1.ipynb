{
 "cells": [
  {
   "cell_type": "markdown",
   "metadata": {},
   "source": [
    "## Week 2 Day 1\n",
    "\n",
    "And now! Our first look at OpenAI Agents SDK\n",
    "\n",
    "You won't believe how lightweight this is.."
   ]
  },
  {
   "cell_type": "markdown",
   "metadata": {},
   "source": [
    "<table style=\"margin: 0; text-align: left; width:100%\">\n",
    "    <tr>\n",
    "        <td style=\"width: 150px; height: 150px; vertical-align: middle;\">\n",
    "            <img src=\"../assets/tools.png\" width=\"150\" height=\"150\" style=\"display: block;\" />\n",
    "        </td>\n",
    "        <td>\n",
    "            <h2 style=\"color:#00bfff;\">The OpenAI Agents SDK Docs</h2>\n",
    "            <span style=\"color:#00bfff;\">The documentation on OpenAI Agents SDK is really clear and simple: <a href=\"https://openai.github.io/openai-agents-python/\">https://openai.github.io/openai-agents-python/</a> and it's well worth a look.\n",
    "            </span>\n",
    "        </td>\n",
    "    </tr>\n",
    "</table>"
   ]
  },
  {
   "cell_type": "code",
   "execution_count": 1,
   "metadata": {},
   "outputs": [],
   "source": [
    "# The imports\n",
    "\n",
    "from dotenv import load_dotenv\n",
    "from agents import Agent, Runner, trace\n",
    "\n"
   ]
  },
  {
   "cell_type": "code",
   "execution_count": 2,
   "metadata": {},
   "outputs": [
    {
     "data": {
      "text/plain": [
       "True"
      ]
     },
     "execution_count": 2,
     "metadata": {},
     "output_type": "execute_result"
    }
   ],
   "source": [
    "# The usual starting point\n",
    "\n",
    "load_dotenv(override=True)\n"
   ]
  },
  {
   "cell_type": "code",
   "execution_count": 3,
   "metadata": {},
   "outputs": [],
   "source": [
    "\n",
    "# Make an agent with name, instructions, model\n",
    "\n",
    "agent = Agent(name=\"CyberSecurity Expert\", instructions=\"You are a cyber security expert. You are given a question and you need to answer it.\", model=\"gpt-4o-mini\")"
   ]
  },
  {
   "cell_type": "code",
   "execution_count": 4,
   "metadata": {},
   "outputs": [
    {
     "name": "stdout",
     "output_type": "stream",
     "text": [
      "A Man-in-the-Middle (MITM) attack is a type of cyber attack where the attacker intercepts and relays communication between two parties without their knowledge. This can allow the attacker to eavesdrop on conversations, steal sensitive information, or even impersonate one of the parties.\n",
      "\n",
      "### Key Characteristics of MITM Attacks:\n",
      "\n",
      "1. **Interception**: The attacker intercepts the communication channel, which can occur on various platforms like emails, web traffic, or messaging apps.\n",
      "\n",
      "2. **Types of MITM Attacks**:\n",
      "   - **Wi-Fi Eavesdropping**: Attackers set up rogue Wi-Fi hotspots to capture data from users who connect.\n",
      "   - **Session Hijacking**: The attacker takes over an active session after the victim has logged in, allowing them to perform actions on behalf of the user.\n",
      "   - **SSL Stripping**: The attacker downgrades a secure HTTPS connection to an unencrypted HTTP one, making it easier to intercept data.\n",
      "   - **DNS Spoofing**: The attacker provides false DNS responses, redirecting traffic to malicious sites.\n",
      "\n",
      "3. **Goals**: Attackers may seek to steal credentials, personal information, or financial data, or they may want to inject malicious content into the communication stream.\n",
      "\n",
      "### Prevention Methods:\n",
      "\n",
      "- **Use Encryption**: Implementing TLS/SSL protocols to secure data in transit.\n",
      "- **Public Key Infrastructure (PKI)**: Using digital signatures and certificates to validate the identities of parties communicating.\n",
      "- **Secure Wi-Fi**: Avoid connecting to public Wi-Fi networks and use Virtual Private Networks (VPNs) for secure communications.\n",
      "- **Regular Software Updates**: Keeping systems updated to patch vulnerabilities that could be exploited in MITM attacks.\n",
      "\n",
      "Understanding and preventing MITM attacks is crucial for maintaining the confidentiality and integrity of communications in digital environments.\n"
     ]
    }
   ],
   "source": [
    "# Run the query with Runner.run(agent, prompt) then print final_output\n",
    "\n",
    "with trace(\"Cyber Security Expert\"):\n",
    "    result = await Runner.run(agent, \"What is MITM attack?\")\n",
    "    print(result.final_output)"
   ]
  },
  {
   "cell_type": "code",
   "execution_count": 6,
   "metadata": {},
   "outputs": [
    {
     "data": {
      "text/markdown": [
       "A Man-in-the-Middle (MITM) attack is a type of cyber attack where the attacker intercepts and relays communication between two parties without their knowledge. This can allow the attacker to eavesdrop on conversations, steal sensitive information, or even impersonate one of the parties.\n",
       "\n",
       "### Key Characteristics of MITM Attacks:\n",
       "\n",
       "1. **Interception**: The attacker intercepts the communication channel, which can occur on various platforms like emails, web traffic, or messaging apps.\n",
       "\n",
       "2. **Types of MITM Attacks**:\n",
       "   - **Wi-Fi Eavesdropping**: Attackers set up rogue Wi-Fi hotspots to capture data from users who connect.\n",
       "   - **Session Hijacking**: The attacker takes over an active session after the victim has logged in, allowing them to perform actions on behalf of the user.\n",
       "   - **SSL Stripping**: The attacker downgrades a secure HTTPS connection to an unencrypted HTTP one, making it easier to intercept data.\n",
       "   - **DNS Spoofing**: The attacker provides false DNS responses, redirecting traffic to malicious sites.\n",
       "\n",
       "3. **Goals**: Attackers may seek to steal credentials, personal information, or financial data, or they may want to inject malicious content into the communication stream.\n",
       "\n",
       "### Prevention Methods:\n",
       "\n",
       "- **Use Encryption**: Implementing TLS/SSL protocols to secure data in transit.\n",
       "- **Public Key Infrastructure (PKI)**: Using digital signatures and certificates to validate the identities of parties communicating.\n",
       "- **Secure Wi-Fi**: Avoid connecting to public Wi-Fi networks and use Virtual Private Networks (VPNs) for secure communications.\n",
       "- **Regular Software Updates**: Keeping systems updated to patch vulnerabilities that could be exploited in MITM attacks.\n",
       "\n",
       "Understanding and preventing MITM attacks is crucial for maintaining the confidentiality and integrity of communications in digital environments."
      ],
      "text/plain": [
       "<IPython.core.display.Markdown object>"
      ]
     },
     "metadata": {},
     "output_type": "display_data"
    }
   ],
   "source": [
    "from IPython.display import Markdown\n",
    "display(Markdown(result.final_output))"
   ]
  },
  {
   "cell_type": "markdown",
   "metadata": {},
   "source": [
    "## Now go and look at the trace\n",
    "\n",
    "https://platform.openai.com/traces"
   ]
  }
 ],
 "metadata": {
  "kernelspec": {
   "display_name": ".venv",
   "language": "python",
   "name": "python3"
  },
  "language_info": {
   "codemirror_mode": {
    "name": "ipython",
    "version": 3
   },
   "file_extension": ".py",
   "mimetype": "text/x-python",
   "name": "python",
   "nbconvert_exporter": "python",
   "pygments_lexer": "ipython3",
   "version": "3.12.10"
  }
 },
 "nbformat": 4,
 "nbformat_minor": 2
}
