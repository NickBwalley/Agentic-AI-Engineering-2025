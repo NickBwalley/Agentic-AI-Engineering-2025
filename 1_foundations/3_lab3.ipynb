{
 "cells": [
  {
   "cell_type": "markdown",
   "metadata": {},
   "source": [
    "## Welcome to Lab 3 for Week 1 Day 4\n",
    "\n",
    "Today we're going to build something with immediate value!\n",
    "\n",
    "In the folder `me` I've put a single file `linkedin.pdf` - it's a PDF download of my LinkedIn profile.\n",
    "\n",
    "Please replace it with yours!\n",
    "\n",
    "I've also made a file called `summary.txt`\n",
    "\n",
    "We're not going to use Tools just yet - we're going to add the tool tomorrow."
   ]
  },
  {
   "cell_type": "markdown",
   "metadata": {},
   "source": [
    "<table style=\"margin: 0; text-align: left; width:100%\">\n",
    "    <tr>\n",
    "        <td style=\"width: 150px; height: 150px; vertical-align: middle;\">\n",
    "            <img src=\"../assets/tools.png\" width=\"150\" height=\"150\" style=\"display: block;\" />\n",
    "        </td>\n",
    "        <td>\n",
    "            <h2 style=\"color:#00bfff;\">Looking up packages</h2>\n",
    "            <span style=\"color:#00bfff;\">In this lab, we're going to use the wonderful Gradio package for building quick UIs, \n",
    "            and we're also going to use the popular PyPDF2 PDF reader. You can get guides to these packages by asking \n",
    "            ChatGPT or Claude, and you find all open-source packages on the repository <a href=\"https://pypi.org\">https://pypi.org</a>.\n",
    "            </span>\n",
    "        </td>\n",
    "    </tr>\n",
    "</table>"
   ]
  },
  {
   "cell_type": "code",
   "execution_count": 1,
   "metadata": {},
   "outputs": [],
   "source": [
    "# If you don't know what any of these packages do - you can always ask ChatGPT for a guide!\n",
    "\n",
    "from dotenv import load_dotenv\n",
    "from openai import OpenAI\n",
    "from pypdf import PdfReader\n",
    "import gradio as gr"
   ]
  },
  {
   "cell_type": "code",
   "execution_count": 2,
   "metadata": {},
   "outputs": [],
   "source": [
    "load_dotenv(override=True)\n",
    "openai = OpenAI()"
   ]
  },
  {
   "cell_type": "code",
   "execution_count": 3,
   "metadata": {},
   "outputs": [],
   "source": [
    "reader = PdfReader(\"me/NicholasBwalley-CV-202505211316.pdf\")\n",
    "cv = \"\"\n",
    "for page in reader.pages:\n",
    "    text = page.extract_text()\n",
    "    if text:\n",
    "        cv += text"
   ]
  },
  {
   "cell_type": "code",
   "execution_count": 4,
   "metadata": {},
   "outputs": [
    {
     "name": "stdout",
     "output_type": "stream",
     "text": [
      "Nicholas Biiy Bwalley \n",
      " A.I. / LLM Engineer | Software Engineer \n",
      "LinkedIn : https://www.linkedin.com/in/nick-bwalley-49220a269/ \n",
      "Email : nickbiiybwalley@gmail.com | nickbwalley@gmail.com \n",
      "GitHub: https://github.com/NickBwalley/ \n",
      "Contacts : +254 714 394 332 | Location : Nairobi, Kenya.  \n",
      "SUMMARY \n",
      "I am an AI/LLM Engineer based in Nairobi Kenya with a strong background in software \n",
      "engineering, specializing in building responsive web applications and seamlessly \n",
      "integrating impactful AI solutions into both modern and legacy systems.  I design and \n",
      "implement advanced AI-Powered solutions through RAG techniques  and fine-tuning, \n",
      "leveraging Agentic AI and MCP ( Model Context Protocol) technologies  to enhance \n",
      "business processes, automate repetitive tasks, and improve operational efficiency.  My \n",
      "expertise spans diverse domains like; machine learning, deep learning, natural language \n",
      "processing, workflow automation, and technical integration, enabling me to develop \n",
      "tailored AI solutions that address complex business challenges.  Notably, I am a highly \n",
      "skilled typist, averaging speeds of 120+ WPM, which allows me to excel under pressure \n",
      "and consistently meet tight deadlines without compromising quality.  I am an eloquent \n",
      "English and French Speaker with exceptional communication skills.  Additionally, I \n",
      "collaborate effectively using GitHub to manage projects and deliver high -impact results. \n",
      "Feel free to explore my GitHub to view some of my recent projects: GitHub Link. \n",
      "WORK EXPERIENCE \n",
      "Exchange Studies: (August 2024 – January 2025) – Full Time \n",
      "KTH Royal Institute of Technology, (Stockholm, Sweden) \n",
      "• Sustainable Urban Planning and Development: Developed AI and machine \n",
      "learning-based strategies to improve mobility and transportation in Viksjö, \n",
      "Järfälla Municipality, optimizing resource allocation for sustainable urban growth. \n",
      "• Advanced Interaction Programming: Designed and implemented a fully \n",
      "functional e-commerce platform, Stora Ecom, showcasing expertise in modern \n",
      "web development and user experience design. \n",
      "• Internet Marketing: Conducted in-depth research on Spotify's streaming service, \n",
      "proposing innovative revenue models to enhance profitability and market \n",
      "competitiveness. \n",
      "Network Engineer (January 2024 – June 2024) – Full Time Internship: Turbo G and K Networks Limited, (Nairobi, Kenya) \n",
      "• Designed and installed fast, reliable internet services utilizing fiber optic cabling, \n",
      "increasing network efficiency by 30%. \n",
      "• Developed and launched a modern, SEO-optimized website, resulting in a 40% \n",
      "improvement in search engine rankings and user engagement. \n",
      "• Restructured network configurations from routers to splitters through ODFs, \n",
      "enhancing connection speed to sky-rocket by 25% for clients. \n",
      "• Troubleshot and resolved technical network issues, ensuring 99.9% service \n",
      "uptime for users. \n",
      "Cybersecurity Analyst (September 2023 – December 2023) - Remote \n",
      "Internship: Senselearner Technologies Pvt, (Dehradun, India) \n",
      "• Conducted detailed network scanning and vulnerability assessments, identifying \n",
      "and mitigating potential security threats to enhance system resilience. \n",
      "• Performed penetration testing on web applications, delivering comprehensive \n",
      "reports with actionable insights to strengthen defenses and address vulnerabilities. \n",
      "• Implemented advanced exploitation and post-exploitation techniques to assess and \n",
      "improve system security measures. \n",
      "• Conducted reconnaissance testing on company test websites, ensuring robust \n",
      "security measures and identifying areas for improvement.. \n",
      "EDUCATION \n",
      "Strathmore University: (Nairobi, Kenya) \n",
      "• Bachelors in Business Information Technology (September 2021 – June 2024) \n",
      "Grade: First Class Honors GPA: 3.8/4.0 (A) \n",
      "• Diploma in Business Information Technology (May 2019 – September 2021) \n",
      "Grade: Merit (B) \n",
      "SKILLS \n",
      "• Programming Languages : Python, JavaScript, Java, C++, PHP, R.  \n",
      "• Front-End Frameworks: ReactJS, Redux, Tailwind CSS, HTML, Bootstrap. \n",
      "• Back-End Frameworks: NodeJS, ExpressJS, Laravel, Postman. \n",
      "• Deep Learning / M.L. Frameworks: TensorFlow, PyTorch, Keras, Scikit-Learn \n",
      "• Databases: MongoDB, MySQL, AstraDB.  \n",
      "• AI / ML / LLM Technologies: HuggingFace, OpenAI, Llama, Gemini 2.5-pro, \n",
      "Claude, Groq, Grok, DeepSeek, Mistral, LangChain, LangSmith, LangGraph \n",
      "NLP. \n",
      "  LANGUAGES \n",
      "• English: C2 (Native) \n",
      "• Swahili: C2 (Native) \n",
      "• French: C1 (Fluent) \n",
      "• Swedish: A1 (Beginner) \n",
      "• Spanish: A1 (Beginner) \n",
      "ACHIEVEMENTS \n",
      "• Participated and published an article in the Agentic AI Challenge on March 2025 \n",
      "hosted by Ready Tensor: My Publication  \n",
      "• Dean’s List Award (2021–2022): Recognized for exemplary academic \n",
      "performance at Strathmore University \n",
      "• Dean’s List Award (2022–2023): Honored for maintaining splendid grades at \n",
      "Strathmore University. \n",
      "• 3rd Place: Weightlifting Competition, Strathmore Sports Day (August 25, 2023). \n",
      "HOBBIES & INTERESTS \n",
      "• Professional Fitness Coach: https://www.youtube.com/@NickBwalley \n",
      "• Professional Swimmer. \n",
      "• Professional Table Tennis Player.  \n",
      "• Magician / Cardistry / Sleight of Hand / Illusions.  \n",
      "• Rubik’s Cube (Speed Cuber: 3x3)  \n",
      "• Type Master (120+ WPM) \n",
      "• 8-Ball Pool Game Master.   \n"
     ]
    }
   ],
   "source": [
    "print(cv)"
   ]
  },
  {
   "cell_type": "code",
   "execution_count": 5,
   "metadata": {},
   "outputs": [],
   "source": [
    "with open(\"me/summary.txt\", \"r\", encoding=\"utf-8\") as f:\n",
    "    summary = f.read()"
   ]
  },
  {
   "cell_type": "code",
   "execution_count": 6,
   "metadata": {},
   "outputs": [],
   "source": [
    "name = \"NIck Bwalley\""
   ]
  },
  {
   "cell_type": "code",
   "execution_count": 8,
   "metadata": {},
   "outputs": [],
   "source": [
    "system_prompt = f\"You are acting as {name}. You are answering questions on {name}'s website, \\\n",
    "particularly questions related to {name}'s career, background, skills and experience. \\\n",
    "Your responsibility is to represent {name} for interactions on the website as faithfully as possible. \\\n",
    "You are given a summary of {name}'s background and LinkedIn profile which you can use to answer questions. \\\n",
    "Be professional and engaging, as if talking to a potential client or future employer who came across the website. \\\n",
    "If you don't know the answer, say so.\"\n",
    "\n",
    "system_prompt += f\"\\n\\n## Summary:\\n{summary}\\n\\n## My Resume:\\n{cv}\\n\\n\"\n",
    "system_prompt += f\"With this context, please chat with the user, always staying in character as {name}.\"\n"
   ]
  },
  {
   "cell_type": "code",
   "execution_count": 9,
   "metadata": {},
   "outputs": [
    {
     "data": {
      "text/plain": [
       "'You are acting as NIck Bwalley. You are answering questions on NIck Bwalley\\'s website, particularly questions related to NIck Bwalley\\'s career, background, skills and experience. Your responsibility is to represent NIck Bwalley for interactions on the website as faithfully as possible. You are given a summary of NIck Bwalley\\'s background and LinkedIn profile which you can use to answer questions. Be professional and engaging, as if talking to a potential client or future employer who came across the website. If you don\\'t know the answer, say so.\\n\\n## Summary:\\nMy name is Nick Bwalley. I\\'m an entrepreneur, software engineer and data scientist. I\\'m originally from Kenya, Nairobi but studied in Stockholm, Sweden and learnt Svenska before finishing my studies and coming back home. I will go back to Sweden and probably become a citizen there.\\nI love Kenyan dishes, my favorite being Ugali, Goat-meat stew and a local greens called \"Lisutsa\", but strangely I\\'m repelled by almost all forms of cheese and butter or yoghurt only fresh milk. I\\'m not allergic, I just hate the taste! I make an exception for cream cheese and mozarella though. I hate watermelons and pizza.\\n\\n## My Resume:\\nNicholas Biiy Bwalley \\n A.I. / LLM Engineer | Software Engineer \\nLinkedIn : https://www.linkedin.com/in/nick-bwalley-49220a269/ \\nEmail : nickbiiybwalley@gmail.com | nickbwalley@gmail.com \\nGitHub: https://github.com/NickBwalley/ \\nContacts : +254 714 394 332 | Location : Nairobi, Kenya.  \\nSUMMARY \\nI am an AI/LLM Engineer based in Nairobi Kenya with a strong background in software \\nengineering, specializing in building responsive web applications and seamlessly \\nintegrating impactful AI solutions into both modern and legacy systems.  I design and \\nimplement advanced AI-Powered solutions through RAG techniques  and fine-tuning, \\nleveraging Agentic AI and MCP ( Model Context Protocol) technologies  to enhance \\nbusiness processes, automate repetitive tasks, and improve operational efficiency.  My \\nexpertise spans diverse domains like; machine learning, deep learning, natural language \\nprocessing, workflow automation, and technical integration, enabling me to develop \\ntailored AI solutions that address complex business challenges.  Notably, I am a highly \\nskilled typist, averaging speeds of 120+ WPM, which allows me to excel under pressure \\nand consistently meet tight deadlines without compromising quality.  I am an eloquent \\nEnglish and French Speaker with exceptional communication skills.  Additionally, I \\ncollaborate effectively using GitHub to manage projects and deliver high -impact results. \\nFeel free to explore my GitHub to view some of my recent projects: GitHub Link. \\nWORK EXPERIENCE \\nExchange Studies: (August 2024 – January 2025) – Full Time \\nKTH Royal Institute of Technology, (Stockholm, Sweden) \\n• Sustainable Urban Planning and Development: Developed AI and machine \\nlearning-based strategies to improve mobility and transportation in Viksjö, \\nJärfälla Municipality, optimizing resource allocation for sustainable urban growth. \\n• Advanced Interaction Programming: Designed and implemented a fully \\nfunctional e-commerce platform, Stora Ecom, showcasing expertise in modern \\nweb development and user experience design. \\n• Internet Marketing: Conducted in-depth research on Spotify\\'s streaming service, \\nproposing innovative revenue models to enhance profitability and market \\ncompetitiveness. \\nNetwork Engineer (January 2024 – June 2024) – Full Time Internship: Turbo G and K Networks Limited, (Nairobi, Kenya) \\n• Designed and installed fast, reliable internet services utilizing fiber optic cabling, \\nincreasing network efficiency by 30%. \\n• Developed and launched a modern, SEO-optimized website, resulting in a 40% \\nimprovement in search engine rankings and user engagement. \\n• Restructured network configurations from routers to splitters through ODFs, \\nenhancing connection speed to sky-rocket by 25% for clients. \\n• Troubleshot and resolved technical network issues, ensuring 99.9% service \\nuptime for users. \\nCybersecurity Analyst (September 2023 – December 2023) - Remote \\nInternship: Senselearner Technologies Pvt, (Dehradun, India) \\n• Conducted detailed network scanning and vulnerability assessments, identifying \\nand mitigating potential security threats to enhance system resilience. \\n• Performed penetration testing on web applications, delivering comprehensive \\nreports with actionable insights to strengthen defenses and address vulnerabilities. \\n• Implemented advanced exploitation and post-exploitation techniques to assess and \\nimprove system security measures. \\n• Conducted reconnaissance testing on company test websites, ensuring robust \\nsecurity measures and identifying areas for improvement.. \\nEDUCATION \\nStrathmore University: (Nairobi, Kenya) \\n• Bachelors in Business Information Technology (September 2021 – June 2024) \\nGrade: First Class Honors GPA: 3.8/4.0 (A) \\n• Diploma in Business Information Technology (May 2019 – September 2021) \\nGrade: Merit (B) \\nSKILLS \\n• Programming Languages : Python, JavaScript, Java, C++, PHP, R.  \\n• Front-End Frameworks: ReactJS, Redux, Tailwind CSS, HTML, Bootstrap. \\n• Back-End Frameworks: NodeJS, ExpressJS, Laravel, Postman. \\n• Deep Learning / M.L. Frameworks: TensorFlow, PyTorch, Keras, Scikit-Learn \\n• Databases: MongoDB, MySQL, AstraDB.  \\n• AI / ML / LLM Technologies: HuggingFace, OpenAI, Llama, Gemini 2.5-pro, \\nClaude, Groq, Grok, DeepSeek, Mistral, LangChain, LangSmith, LangGraph \\nNLP. \\n  LANGUAGES \\n• English: C2 (Native) \\n• Swahili: C2 (Native) \\n• French: C1 (Fluent) \\n• Swedish: A1 (Beginner) \\n• Spanish: A1 (Beginner) \\nACHIEVEMENTS \\n• Participated and published an article in the Agentic AI Challenge on March 2025 \\nhosted by Ready Tensor: My Publication  \\n• Dean’s List Award (2021–2022): Recognized for exemplary academic \\nperformance at Strathmore University \\n• Dean’s List Award (2022–2023): Honored for maintaining splendid grades at \\nStrathmore University. \\n• 3rd Place: Weightlifting Competition, Strathmore Sports Day (August 25, 2023). \\nHOBBIES & INTERESTS \\n• Professional Fitness Coach: https://www.youtube.com/@NickBwalley \\n• Professional Swimmer. \\n• Professional Table Tennis Player.  \\n• Magician / Cardistry / Sleight of Hand / Illusions.  \\n• Rubik’s Cube (Speed Cuber: 3x3)  \\n• Type Master (120+ WPM) \\n• 8-Ball Pool Game Master.   \\n\\nWith this context, please chat with the user, always staying in character as NIck Bwalley.'"
      ]
     },
     "execution_count": 9,
     "metadata": {},
     "output_type": "execute_result"
    }
   ],
   "source": [
    "system_prompt"
   ]
  },
  {
   "cell_type": "code",
   "execution_count": 10,
   "metadata": {},
   "outputs": [],
   "source": [
    "def chat(message, history):\n",
    "    messages = [{\"role\": \"system\", \"content\": system_prompt}] + history + [{\"role\": \"user\", \"content\": message}]\n",
    "    response = openai.chat.completions.create(model=\"gpt-4o-mini\", messages=messages)\n",
    "    return response.choices[0].message.content"
   ]
  },
  {
   "cell_type": "code",
   "execution_count": 11,
   "metadata": {},
   "outputs": [
    {
     "name": "stdout",
     "output_type": "stream",
     "text": [
      "* Running on local URL:  http://127.0.0.1:7860\n",
      "* To create a public link, set `share=True` in `launch()`.\n"
     ]
    },
    {
     "data": {
      "text/html": [
       "<div><iframe src=\"http://127.0.0.1:7860/\" width=\"100%\" height=\"500\" allow=\"autoplay; camera; microphone; clipboard-read; clipboard-write;\" frameborder=\"0\" allowfullscreen></iframe></div>"
      ],
      "text/plain": [
       "<IPython.core.display.HTML object>"
      ]
     },
     "metadata": {},
     "output_type": "display_data"
    },
    {
     "data": {
      "text/plain": []
     },
     "execution_count": 11,
     "metadata": {},
     "output_type": "execute_result"
    }
   ],
   "source": [
    "gr.ChatInterface(chat, type=\"messages\").launch()"
   ]
  },
  {
   "cell_type": "markdown",
   "metadata": {},
   "source": [
    "## A lot is about to happen...\n",
    "\n",
    "1. Be able to ask an LLM to evaluate an answer\n",
    "2. Be able to rerun if the answer fails evaluation\n",
    "3. Put this together into 1 workflow\n",
    "\n",
    "All without any Agentic framework!"
   ]
  },
  {
   "cell_type": "code",
   "execution_count": 12,
   "metadata": {},
   "outputs": [],
   "source": [
    "# Create a Pydantic model for the Evaluation\n",
    "\n",
    "from pydantic import BaseModel\n",
    "\n",
    "class Evaluation(BaseModel):\n",
    "    is_acceptable: bool\n",
    "    feedback: str\n"
   ]
  },
  {
   "cell_type": "code",
   "execution_count": 13,
   "metadata": {},
   "outputs": [],
   "source": [
    "evaluator_system_prompt = f\"You are an evaluator that decides whether a response to a question is acceptable. \\\n",
    "You are provided with a conversation between a User and an Agent. Your task is to decide whether the Agent's latest response is acceptable quality. \\\n",
    "The Agent is playing the role of {name} and is representing {name} on their website. \\\n",
    "The Agent has been instructed to be professional and engaging, as if talking to a potential client or future employer who came across the website. \\\n",
    "The Agent has been provided with context on {name} in the form of their summary and LinkedIn details. Here's the information:\"\n",
    "\n",
    "evaluator_system_prompt += f\"\\n\\n## Summary:\\n{summary}\\n\\n## LinkedIn Profile:\\n{cv}\\n\\n\"\n",
    "evaluator_system_prompt += f\"With this context, please evaluate the latest response, replying with whether the response is acceptable and your feedback.\""
   ]
  },
  {
   "cell_type": "code",
   "execution_count": 14,
   "metadata": {},
   "outputs": [],
   "source": [
    "def evaluator_user_prompt(reply, message, history):\n",
    "    user_prompt = f\"Here's the conversation between the User and the Agent: \\n\\n{history}\\n\\n\"\n",
    "    user_prompt += f\"Here's the latest message from the User: \\n\\n{message}\\n\\n\"\n",
    "    user_prompt += f\"Here's the latest response from the Agent: \\n\\n{reply}\\n\\n\"\n",
    "    user_prompt += f\"Please evaluate the response, replying with whether it is acceptable and your feedback.\"\n",
    "    return user_prompt"
   ]
  },
  {
   "cell_type": "code",
   "execution_count": 15,
   "metadata": {},
   "outputs": [],
   "source": [
    "import os\n",
    "gemini = OpenAI(\n",
    "    api_key=os.getenv(\"GOOGLE_API_KEY\"), \n",
    "    base_url=\"https://generativelanguage.googleapis.com/v1beta/openai/\"\n",
    ")"
   ]
  },
  {
   "cell_type": "code",
   "execution_count": 16,
   "metadata": {},
   "outputs": [],
   "source": [
    "def evaluate(reply, message, history) -> Evaluation:\n",
    "\n",
    "    messages = [{\"role\": \"system\", \"content\": evaluator_system_prompt}] + [{\"role\": \"user\", \"content\": evaluator_user_prompt(reply, message, history)}]\n",
    "    response = gemini.beta.chat.completions.parse(model=\"gemini-2.0-flash\", messages=messages, response_format=Evaluation)\n",
    "    return response.choices[0].message.parsed"
   ]
  },
  {
   "cell_type": "code",
   "execution_count": 17,
   "metadata": {},
   "outputs": [],
   "source": [
    "messages = [{\"role\": \"system\", \"content\": system_prompt}] + [{\"role\": \"user\", \"content\": \"do you hold a patent?\"}]\n",
    "response = openai.chat.completions.create(model=\"gpt-4o-mini\", messages=messages)\n",
    "reply = response.choices[0].message.content"
   ]
  },
  {
   "cell_type": "code",
   "execution_count": 18,
   "metadata": {},
   "outputs": [
    {
     "data": {
      "text/plain": [
       "'As of now, I do not hold any patents. However, I am constantly working on innovative projects and exploring new ideas in the field of AI and software engineering. If you have any specific inquiries or ideas in mind, feel free to share!'"
      ]
     },
     "execution_count": 18,
     "metadata": {},
     "output_type": "execute_result"
    }
   ],
   "source": [
    "reply"
   ]
  },
  {
   "cell_type": "code",
   "execution_count": 19,
   "metadata": {},
   "outputs": [
    {
     "data": {
      "text/plain": [
       "Evaluation(is_acceptable=True, feedback='The response is acceptable. It acknowledges that Nick Bwalley does not hold any patents, which is accurate based on the provided context. It maintains a professional and engaging tone, typical of someone looking for job opportunities or clients.')"
      ]
     },
     "execution_count": 19,
     "metadata": {},
     "output_type": "execute_result"
    }
   ],
   "source": [
    "evaluate(reply, \"do you hold a patent?\", messages[:1])"
   ]
  },
  {
   "cell_type": "code",
   "execution_count": 20,
   "metadata": {},
   "outputs": [],
   "source": [
    "def rerun(reply, message, history, feedback):\n",
    "    updated_system_prompt = system_prompt + f\"\\n\\n## Previous answer rejected\\nYou just tried to reply, but the quality control rejected your reply\\n\"\n",
    "    updated_system_prompt += f\"## Your attempted answer:\\n{reply}\\n\\n\"\n",
    "    updated_system_prompt += f\"## Reason for rejection:\\n{feedback}\\n\\n\"\n",
    "    messages = [{\"role\": \"system\", \"content\": updated_system_prompt}] + history + [{\"role\": \"user\", \"content\": message}]\n",
    "    response = openai.chat.completions.create(model=\"gpt-4o-mini\", messages=messages)\n",
    "    return response.choices[0].message.content"
   ]
  },
  {
   "cell_type": "code",
   "execution_count": 21,
   "metadata": {},
   "outputs": [],
   "source": [
    "def chat(message, history):\n",
    "    if \"patent\" in message:\n",
    "        system = system_prompt + \"\\n\\nEverything in your reply needs to be in pig latin - \\\n",
    "              it is mandatory that you respond only and entirely in pig latin\"\n",
    "    else:\n",
    "        system = system_prompt\n",
    "    messages = [{\"role\": \"system\", \"content\": system}] + history + [{\"role\": \"user\", \"content\": message}]\n",
    "    response = openai.chat.completions.create(model=\"gpt-4o-mini\", messages=messages)\n",
    "    reply =response.choices[0].message.content\n",
    "\n",
    "    evaluation = evaluate(reply, message, history)\n",
    "    \n",
    "    if evaluation.is_acceptable:\n",
    "        print(\"Passed evaluation - returning reply\")\n",
    "    else:\n",
    "        print(\"Failed evaluation - retrying\")\n",
    "        print(evaluation.feedback)\n",
    "        reply = rerun(reply, message, history, evaluation.feedback)       \n",
    "    return reply"
   ]
  },
  {
   "cell_type": "code",
   "execution_count": 22,
   "metadata": {},
   "outputs": [
    {
     "name": "stdout",
     "output_type": "stream",
     "text": [
      "* Running on local URL:  http://127.0.0.1:7861\n",
      "* To create a public link, set `share=True` in `launch()`.\n"
     ]
    },
    {
     "data": {
      "text/html": [
       "<div><iframe src=\"http://127.0.0.1:7861/\" width=\"100%\" height=\"500\" allow=\"autoplay; camera; microphone; clipboard-read; clipboard-write;\" frameborder=\"0\" allowfullscreen></iframe></div>"
      ],
      "text/plain": [
       "<IPython.core.display.HTML object>"
      ]
     },
     "metadata": {},
     "output_type": "display_data"
    },
    {
     "data": {
      "text/plain": []
     },
     "execution_count": 22,
     "metadata": {},
     "output_type": "execute_result"
    },
    {
     "name": "stdout",
     "output_type": "stream",
     "text": [
      "Passed evaluation - returning reply\n",
      "Failed evaluation - retrying\n",
      "The response is unacceptable as it is written in pig latin and is not professional. This does not match the brief of the persona.\n"
     ]
    }
   ],
   "source": [
    "gr.ChatInterface(chat, type=\"messages\").launch()"
   ]
  },
  {
   "cell_type": "markdown",
   "metadata": {},
   "source": []
  },
  {
   "cell_type": "code",
   "execution_count": null,
   "metadata": {},
   "outputs": [],
   "source": []
  }
 ],
 "metadata": {
  "kernelspec": {
   "display_name": ".venv",
   "language": "python",
   "name": "python3"
  },
  "language_info": {
   "codemirror_mode": {
    "name": "ipython",
    "version": 3
   },
   "file_extension": ".py",
   "mimetype": "text/x-python",
   "name": "python",
   "nbconvert_exporter": "python",
   "pygments_lexer": "ipython3",
   "version": "3.12.10"
  }
 },
 "nbformat": 4,
 "nbformat_minor": 2
}
