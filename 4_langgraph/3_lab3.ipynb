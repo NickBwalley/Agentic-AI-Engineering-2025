{
 "cells": [
  {
   "cell_type": "markdown",
   "metadata": {},
   "source": [
    "## Welcome to Week 4, Day 4\n",
    "\n",
    "This is the start of an AWESOME project! Really simple and very effective."
   ]
  },
  {
   "cell_type": "markdown",
   "metadata": {},
   "source": [
    "### First - a heads up for Windows PC users\n",
    "\n",
    "While executing this notebook, you might hit a problem with the Playwright browser raising a NotImplementedError.\n",
    "\n",
    "This should work when we move to python modules, but it can cause problems in Windows in a notebook.\n",
    "\n",
    "If you it this error and would like to run the notebook, you need to make a small change which seems quite hacky!\n",
    "\n",
    "1. Right click in `.venv` in the File Explorer on the left and select \"Find in folder\"\n",
    "2. Search for `asyncio.set_event_loop_policy(WindowsSelectorEventLoopPolicy())`  \n",
    "3. That code should be found in a line of code in a file called `kernelapp.py`\n",
    "4. Comment out that line of code in that file! And save the file. (And in fact, student William Lapa tells me that he needed to comment out the entire else statement that this line is part of.)\n",
    "5. Restart the kernel by pressing the \"Restart\" button above\n",
    "\n",
    "Thank you to student Nicolas for finding this, and to Yaki, Zibin and Bhaskar for confirming that this worked for them!"
   ]
  },
  {
   "cell_type": "code",
   "execution_count": 1,
   "metadata": {},
   "outputs": [],
   "source": [
    "from typing import Annotated\n",
    "from typing_extensions import TypedDict\n",
    "from langgraph.graph import StateGraph, START\n",
    "from langgraph.graph.message import add_messages\n",
    "from dotenv import load_dotenv\n",
    "from IPython.display import Image, display\n",
    "import gradio as gr\n",
    "from langgraph.prebuilt import ToolNode, tools_condition\n",
    "import requests\n",
    "import os\n",
    "from langchain.agents import Tool\n",
    "\n",
    "from langchain_openai import ChatOpenAI\n",
    "from langgraph.checkpoint.memory import MemorySaver"
   ]
  },
  {
   "cell_type": "code",
   "execution_count": 2,
   "metadata": {},
   "outputs": [
    {
     "data": {
      "text/plain": [
       "True"
      ]
     },
     "execution_count": 2,
     "metadata": {},
     "output_type": "execute_result"
    }
   ],
   "source": [
    "load_dotenv(override=True)"
   ]
  },
  {
   "cell_type": "markdown",
   "metadata": {},
   "source": [
    "### Asynchronous LangGraph\n",
    "\n",
    "To run a tool:  \n",
    "Sync: `tool.run(inputs)`  \n",
    "Async: `await tool.arun(inputs)`\n",
    "\n",
    "To invoke the graph:  \n",
    "Sync: `graph.invoke(state)`  \n",
    "Async: `await graph.ainvoke(state)`"
   ]
  },
  {
   "cell_type": "code",
   "execution_count": 3,
   "metadata": {},
   "outputs": [],
   "source": [
    "class State(TypedDict):\n",
    "    \n",
    "    messages: Annotated[list, add_messages]\n",
    "\n",
    "\n",
    "graph_builder = StateGraph(State)"
   ]
  },
  {
   "cell_type": "code",
   "execution_count": 4,
   "metadata": {},
   "outputs": [],
   "source": [
    "pushover_token = os.getenv(\"PUSHOVER_TOKEN\")\n",
    "pushover_user = os.getenv(\"PUSHOVER_USER\")\n",
    "pushover_url = \"https://api.pushover.net/1/messages.json\"\n",
    "\n",
    "def push(text: str):\n",
    "    \"\"\"Send a push notification to the user\"\"\"\n",
    "    requests.post(pushover_url, data = {\"token\": pushover_token, \"user\": pushover_user, \"message\": text})\n",
    "\n",
    "tool_push = Tool(\n",
    "        name=\"send_push_notification\",\n",
    "        func=push,\n",
    "        description=\"useful for when you want to send a push notification\"\n",
    "    )"
   ]
  },
  {
   "cell_type": "markdown",
   "metadata": {},
   "source": [
    "### Next: Install Playwright\n",
    "\n",
    "On Windows and MacOS:  \n",
    "`playwright install`\n",
    "\n",
    "On Linux:  \n",
    "`playwright install —with-reps chromium`"
   ]
  },
  {
   "cell_type": "markdown",
   "metadata": {},
   "source": [
    "### Introducing nest_asyncio\n",
    "\n",
    "Python async code only allows for one \"event loop\" processing aynchronous events.\n",
    "\n",
    "The `nest_asyncio` library patches this, and is used for special situations, if you need to run a nested event loop.\n",
    "\n"
   ]
  },
  {
   "cell_type": "code",
   "execution_count": 5,
   "metadata": {},
   "outputs": [],
   "source": [
    "import nest_asyncio\n",
    "nest_asyncio.apply()"
   ]
  },
  {
   "cell_type": "markdown",
   "metadata": {},
   "source": [
    "### The LangChain community\n",
    "\n",
    "One of the remarkable things about LangChain is the rich community around it.\n",
    "\n",
    "Check this out:\n"
   ]
  },
  {
   "cell_type": "code",
   "execution_count": 6,
   "metadata": {},
   "outputs": [],
   "source": [
    "from langchain_community.agent_toolkits import PlayWrightBrowserToolkit\n",
    "from langchain_community.tools.playwright.utils import create_async_playwright_browser\n",
    "\n",
    "async_browser =  create_async_playwright_browser(headless=False)  # headful mode\n",
    "toolkit = PlayWrightBrowserToolkit.from_browser(async_browser=async_browser)\n",
    "tools = toolkit.get_tools()"
   ]
  },
  {
   "cell_type": "code",
   "execution_count": 7,
   "metadata": {},
   "outputs": [
    {
     "name": "stdout",
     "output_type": "stream",
     "text": [
      "click_element=async_browser=<Browser type=<BrowserType name=chromium executable_path=C:\\Users\\nickb\\AppData\\Local\\ms-playwright\\chromium-1169\\chrome-win\\chrome.exe> version=136.0.7103.25>\n",
      "navigate_browser=async_browser=<Browser type=<BrowserType name=chromium executable_path=C:\\Users\\nickb\\AppData\\Local\\ms-playwright\\chromium-1169\\chrome-win\\chrome.exe> version=136.0.7103.25>\n",
      "previous_webpage=async_browser=<Browser type=<BrowserType name=chromium executable_path=C:\\Users\\nickb\\AppData\\Local\\ms-playwright\\chromium-1169\\chrome-win\\chrome.exe> version=136.0.7103.25>\n",
      "extract_text=async_browser=<Browser type=<BrowserType name=chromium executable_path=C:\\Users\\nickb\\AppData\\Local\\ms-playwright\\chromium-1169\\chrome-win\\chrome.exe> version=136.0.7103.25>\n",
      "extract_hyperlinks=async_browser=<Browser type=<BrowserType name=chromium executable_path=C:\\Users\\nickb\\AppData\\Local\\ms-playwright\\chromium-1169\\chrome-win\\chrome.exe> version=136.0.7103.25>\n",
      "get_elements=async_browser=<Browser type=<BrowserType name=chromium executable_path=C:\\Users\\nickb\\AppData\\Local\\ms-playwright\\chromium-1169\\chrome-win\\chrome.exe> version=136.0.7103.25>\n",
      "current_webpage=async_browser=<Browser type=<BrowserType name=chromium executable_path=C:\\Users\\nickb\\AppData\\Local\\ms-playwright\\chromium-1169\\chrome-win\\chrome.exe> version=136.0.7103.25>\n"
     ]
    }
   ],
   "source": [
    "for tool in tools:\n",
    "    print(f\"{tool.name}={tool}\")"
   ]
  },
  {
   "cell_type": "code",
   "execution_count": 8,
   "metadata": {},
   "outputs": [],
   "source": [
    "tool_dict = {tool.name:tool for tool in tools}\n",
    "\n",
    "navigate_tool = tool_dict.get(\"navigate_browser\")\n",
    "extract_text_tool = tool_dict.get(\"extract_text\")\n",
    "\n",
    "    \n",
    "await navigate_tool.arun({\"url\": \"https://www.cnn.com\"})\n",
    "text = await extract_text_tool.arun({})"
   ]
  },
  {
   "cell_type": "code",
   "execution_count": 9,
   "metadata": {},
   "outputs": [
    {
     "name": "stdout",
     "output_type": "stream",
     "text": [
      "Breaking News, Latest News and Videos | CNN CNN values your feedback\n",
      "1. How relevant is this ad to you? 2. Did you encounter any technical\n",
      "issues? No Video player was slow to load content Video content never\n",
      "loaded Ad froze or did not finish loading Video content did not start\n",
      "after ad Audio on ad was too loud Other issues Ad never loaded Ad\n",
      "prevented/slowed the page from loading Content moved around while ad\n",
      "loaded Ad was repetitive to ads I've seen previously Other issues\n",
      "Cancel Submit Thank You! Your effort and contribution in providing\n",
      "this feedback is much\n",
      "appreciated. Close Ad Feedback Close icon US World Politics Business\n",
      "Health Entertainment Style Travel Sports Science Climate Weather\n",
      "Ukraine-Russia War Israel-Hamas War Games More US World Politics\n",
      "Business Health Entertainment Style Travel Sports Science Climate\n",
      "Weather Ukraine-Russia War Israel-Hamas War Games Watch Listen Live TV\n",
      "Subscribe Sign in My Account Settings Newsletters Topics you follow\n",
      "Sign out Your CNN account Sign in to your CNN account Sign in My\n",
      "Account Settings Newsletters Topics you follow Sign out Your CNN\n",
      "account Sign in to your CNN account Live TV Listen Watch Edition US\n",
      "International Arabic Español Edition US International Arabic Español\n",
      "World Africa Americas Asia Australia China Europe India Middle East\n",
      "United Kingdom US Politics Trump Facts First CNN Polls 2025 Elections\n",
      "Business Tech Media Calculators Videos Markets Pre-markets After-Hours\n",
      "Fear & Greed Investing Markets Now Nightcap Health Life, But Better\n",
      "Fitness Food Sleep Mindfulness Relationships Entertainment Movies\n",
      "Television Celebrity Tech Innovate Foreseeable Future Mission: Ahead\n",
      "Work Transformed Innovative Cities Style Arts Design Fashion\n",
      "Architecture Luxury Beauty Video Travel Destinations Food & Drink Stay\n",
      "News Videos Sports Football Tennis Golf Motorsport US Sports Olympics\n",
      "Climbing Esports Hockey Science Space Life Unearthed Climate Solutions\n",
      "Weather Weather Video Climate Ukraine-Russia War Israel-Hamas War\n",
      "Features As Equals Call to Earth Freedom Project Impact Your World\n",
      "Inside Africa CNN Heroes Watch Live TV CNN Fast Shows A-Z CNN10 CNN\n",
      "Max CNN TV Schedules Listen CNN 5 Things Chasing Life with Dr. Sanjay\n",
      "Gupta The Assignment with Audie Cornish One Thing Tug of War CNN\n",
      "Political Briefing The Axe Files All There Is with Anderson Cooper All\n",
      "CNN Audio podcasts Games Daily Crossword Jumble Crossword Sudoblock\n",
      "Sudoku 5 Things Quiz About CNN Photos Investigations CNN Profiles CNN\n",
      "Leadership CNN Newsletters Work for CNN Follow CNN Musk’s Mars\n",
      "ambitions University checks bras before exams Huge Roman frescoes\n",
      "uncovered Naomi Campbell‘s catwalk The new nudity Budapest Pride march\n",
      "banned Live Updates 7 min ago This screengrab, taken from a video\n",
      "geolocated by CNN, shows smoke rising near a technology park housing\n",
      "multiple companies including Microsoft in Beer Sheva, Israel, on\n",
      "Friday, June 20, 2025. From Social Media Israel and Iran trade strikes\n",
      "as Trump weighs US involvement 7 min ago Israeli military says it\n",
      "struck dozens of targets in Iran overnight 20 min ago First responders\n",
      "search for wounded after Iranian missile struck near Israel’s Beer\n",
      "Sheva tech park 1 hr 44 min ago Regime change in Iran would be\n",
      "unacceptable, Kremlin says 1 hr 55 min ago UN nuclear watchdog\n",
      "findings are not a basis for military action, organization’s head says\n",
      "1 hr 15 min ago Marches of \"wrath\" and \"victory\" planned across Iran\n",
      "for Friday 1 hr 16 min ago Fire erupts near Microsoft office in\n",
      "Israel’s Beer Sheva after Iranian attack See all updates ( 6 +) •\n",
      "First on CNN 1:56 CNN First on CNN CNN goes inside Iranian TV studio\n",
      "destroyed in airstrike 1:56 • Video 3:02 Obtained by CNN Video Watch:\n",
      "CNN investigates Israel’s strikes on key Iranian officials — and their\n",
      "civilian toll 3:02 • Analysis Analysis Getty Images Analysis Trump’s\n",
      "credibility problem on Iran Trump’s two-week time frame sets off\n",
      "scramble to restart talks with Iran Show all Brendan\n",
      "Smialowski/AFP/Getty Images The White House hopes that Iran, under\n",
      "attack by Israel and having suffered losses to its arsenal, will agree\n",
      "to terms it previously rejected. Live Updates UN nuclear watchdog\n",
      "findings are not a basis for military action, organization’s head says\n",
      "Analysis Western diplomats welcome two-week breather to ‘explore what\n",
      "is possible’ on Iran’s nuclear program Analysis Why Trump’s two-week\n",
      "pause on Iran makes sense — and why it may not work Video A look at\n",
      "the past efforts to change Iranian leadership 2:57 Catch up on today's\n",
      "global news - Source: CNN Video Catch up on today’s news AFP/Getty\n",
      "Images ‘It feels like a missile is following me’: Iranians on daily\n",
      "life • Video 2:58 CNN CNN follows Israeli rescue team into Tel Aviv\n",
      "high rise struck by Iranian missile 2:58 Ad Feedback More top stories\n",
      "Jim Vondruska/Getty Images Trump can maintain control of thousands of\n",
      "California national guardsmen, appeals court rules Minnesota lawmaker\n",
      "who survived shooting shares harrowing account of how the attack\n",
      "unfolded Why Chinese leaders walked away from trade negotiations with\n",
      "a spring in their step Nigerian university sparks outrage as staff\n",
      "check whether female students are wearing bras before exams Video\n",
      "Scores killed in Gaza in latest Israeli strikes 0:45 African Parks\n",
      "moved 70 rhinos 3,400 kilometers from South Africa to Rwanda as part\n",
      "of a rewilding initiative. African Parks 70 farm-raised rhinos\n",
      "released into the wild Courtesy Rich Gill/Gilly Photography She won a\n",
      "100k ultramarathon through the mountains – while breastfeeding Mark\n",
      "Berry/British Naturism The new nudity: Why naturism is due a costume\n",
      "change Ad Feedback Courtesy Andrew C @therocketfuture Analysis Elon\n",
      "Musk’s SpaceX rockets keep blowing up at the worst possible time Jun\n",
      "19, 2025 SpaceX A massive rocket explosion stirs up talk of setbacks.\n",
      "Are Musk’s Mars ambitions farther than they seem? Jun 19, 2025 Andrew\n",
      "C @therocketfuture Video See moment SpaceX Starship rocket explodes\n",
      "1:00 Jun 19, 2025 Ad Feedback Sakchai Lalit/AP How a leaked phone call\n",
      "between a former strongman and a young leader could topple a\n",
      "government CIRA/RAMMB/NOAA Erick makes landfall as a Category 3\n",
      "hurricane, the strongest to hit Mexico so early in the year\n",
      "Metropolitan Police/PA Wire Chinese student who drugged and raped 10\n",
      "women in UK and China sentenced to life in prison • Video 0:55 Office\n",
      "of former president Barack Obama Video Obama: US ‘dangerously close’\n",
      "to autocracy 0:55 Guy Marineau/Conde Nast/Getty Images Towering heels,\n",
      "epic fall: Remember when Naomi Campbell turned a catwalk catastrophe\n",
      "into career gold? Ferenc Isza/AFP/Getty Images Hungarian police ban\n",
      "Budapest Pride march MOLA Huge Roman frescoes buried in pieces for\n",
      "1,800 years uncovered Kennis & Kennis Scientists reconstruct\n",
      "10,500-year-old woman’s face using DNA Andy Lyons/Getty Images Wyndham\n",
      "Clark apologizes for his actions at US Open • Video 2:59 CNN Video\n",
      "Here’s how Costa Rica became the largest exporter of butterflies in\n",
      "the world 2:59 • Video 3:31 AARON CHERRIE PHOTOGRAPHY Video\n",
      "Photographer captures the Milky Way in one of the UK’s darkest places\n",
      "3:31 Ad Feedback Featured Sections Space and science Hebei GEO\n",
      "University ‘Dragon Man’ DNA revelation puts a face to a mysterious\n",
      "group of ancient humans First methane-powered sea spiders found\n",
      "crawling on the ocean floor Reopening a 688-year-old murder case\n",
      "reveals a tangled web of adultery and extortion in medieval England\n",
      "14,000-year-old mummified ‘puppies’ weren’t dogs at all, new research\n",
      "shows Global Travel Show all Trash hoisted up from Karst cave in\n",
      "Zhangjiajie City, Hunan Province, China Douyin/ “Zhangjiajie Daily”\n",
      "Viral videos prompt mass cleanup of caves near China’s famed ‘Avatar’\n",
      "mountains Indonesia volcano spews ash more than 6 miles into sky,\n",
      "dozens of Bali flights canceled ‘We will block the canals’: Venice\n",
      "divided as young protesters target Bezos wedding 40 Korean dishes we\n",
      "can’t live without Ad Feedback Global Business Brendan\n",
      "Smialowski/AFP/Getty Images Takeaways from the Fed’s decision to keep\n",
      "rates on hold as officials watch Trump’s tariffs and Israel-Iran\n",
      "conflict Waymo is returning to NYC, but it still needs a change in the\n",
      "law to provide driverless rides Kraft Heinz will remove all artificial\n",
      "dyes from its foods, complying with RFK Jr.’s demands Wall Street\n",
      "isn’t freaking out about Israel and Iran yet. This could change their\n",
      "minds Art and Style • Look of the Week Look of the Week From Ryan\n",
      "Murphy Productions Look of the Week Carolyn Bessette Kennedy and the\n",
      "dangers of dressing an icon Stunning photos of geometric facades\n",
      "reveal this country’s quirky architectural identity Inside Titi\n",
      "Ogufere’s bold mission to redefine African design A new art exhibition\n",
      "says we’ve gotten sexual identity all wrong SPORT Show all Icon\n",
      "Sportswire/Getty Images Florida Panthers crack and dent Stanley Cup as\n",
      "title celebrations roll on Browns rookie QB Shedeur Sanders ticketed\n",
      "after police say he drove 101 mph in Cleveland suburb Buss family\n",
      "agrees to sell majority stake of Los Angeles Lakers in reported record\n",
      "$10B deal Singer Nezza explains why she sang US National Anthem in\n",
      "Spanish at Dodgers game; says team objected Ad Feedback US Politics\n",
      "Charly Triballeau/AFP/Getty Images Brad Lander, a candidate used to\n",
      "getting arrested, shakes up New York’s mayoral race Wife of Colorado\n",
      "attack suspect says she and her 5 children are ‘suffering’ in ICE\n",
      "custody Supreme Court upholds Tennessee’s ban on gender-affirming care\n",
      "for trans youth ‘The best poles anywhere in the country’: Trump\n",
      "installs gigantic US flags at the White House health and wellness\n",
      "Daniel de la Hoz/iStockphoto/Getty Images The new coronavirus variant\n",
      "surging in China has arrived in the US. Here’s what to know about\n",
      "Nimbus Marijuana use dramatically increases risk of dying from heart\n",
      "attacks and stroke, large study finds Getting in more steps may\n",
      "prevent the leading cause of disability in the US, study says New to\n",
      "the ‘Dirty Dozen’ list: Blackberries and potatoes Tech Michael M.\n",
      "Santiago/Getty Images AI warnings are the hip new way for CEOs to keep\n",
      "their workers afraid of losing their jobs Amazon says it will reduce\n",
      "its workforce as AI replaces human employees Texas Instruments to\n",
      "invest more than $60 billion to make semiconductors in the US Sam\n",
      "Altman says Meta is offering $100 million to poach his employees\n",
      "Photos You Should See • Gallery Gallery Amir Levy/Getty Images Gallery\n",
      "In pictures: The escalating conflict between Israel and Iran • Gallery\n",
      "Gallery Dave Kotinsky/Getty Images Gallery People we’ve lost in 2025 •\n",
      "Gallery Gallery Nam Y. Huh/AP Gallery In pictures: The nationwide ‘No\n",
      "Kings’ protests • Gallery Gallery Lorenzo Poli Gallery Haunting image\n",
      "of an abandoned mining town wins Earth Photo prize Rebecca Noble for\n",
      "CNN As a gay teen, his dad didn’t support him. Now the pair are\n",
      "bringing drag shows to rural towns • Gallery Gallery Gina Ferazzi/Los\n",
      "Angeles Times/Getty Images Gallery In pictures: Protests in LA after\n",
      "immigration raids Ad Feedback In Case You Missed It Zhang\n",
      "Huiquan/People's Liberation Army Navy China’s aircraft carriers send\n",
      "message in the open Pacific for the first time – and bigger and more\n",
      "powerful ships are coming 28 killed in deadliest Russian strikes on\n",
      "Kyiv in almost a year This artist just spray painted a public square\n",
      "in Switzerland Close-knit celebrity chef community mourns loss of Anne\n",
      "Burrell: ‘We’ve lost someone truly special’ This puffer jacket uses\n",
      "light and sound to lull you to sleep anywhere Singer Nezza explains\n",
      "why she sang US National Anthem in Spanish at Dodgers game; says team\n",
      "objected Trump focused on avoiding wider conflict as he nears decision\n",
      "on US strikes in Iran, sources say While North Korea denied Covid-19\n",
      "cases, the virus was widespread and barely treated, report says\n",
      "World’s most liveable city for 2025 revealed Analysis Trump promised a\n",
      "peacemaker presidency. What happened? Subscribe Sign in My Account\n",
      "Settings Newsletters Topics you follow Sign out Your CNN account Sign\n",
      "in to your CNN account Live TV Listen Watch World Africa Americas Asia\n",
      "Australia China Europe India Middle East United Kingdom US Politics\n",
      "Trump Facts First CNN Polls 2025 Elections Business Tech Media\n",
      "Calculators Videos Markets Pre-markets After-Hours Fear & Greed\n",
      "Investing Markets Now Nightcap Health Life, But Better Fitness Food\n",
      "Sleep Mindfulness Relationships Entertainment Movies Television\n",
      "Celebrity Tech Innovate Foreseeable Future Mission: Ahead Work\n",
      "Transformed Innovative Cities Style Arts Design Fashion Architecture\n",
      "Luxury Beauty Video Travel Destinations Food & Drink Stay News Videos\n",
      "Sports Football Tennis Golf Motorsport US Sports Olympics Climbing\n",
      "Esports Hockey Science Space Life Unearthed Climate Solutions Weather\n",
      "Weather Video Climate Ukraine-Russia War Israel-Hamas War Features As\n",
      "Equals Call to Earth Freedom Project Impact Your World Inside Africa\n",
      "CNN Heroes Watch Live TV CNN Fast Shows A-Z CNN10 CNN Max CNN TV\n",
      "Schedules Listen CNN 5 Things Chasing Life with Dr. Sanjay Gupta The\n",
      "Assignment with Audie Cornish One Thing Tug of War CNN Political\n",
      "Briefing The Axe Files All There Is with Anderson Cooper All CNN Audio\n",
      "podcasts Games Daily Crossword Jumble Crossword Sudoblock Sudoku 5\n",
      "Things Quiz About CNN Photos Investigations CNN Profiles CNN\n",
      "Leadership CNN Newsletters Work for CNN Watch Listen Live TV Follow\n",
      "CNN Subscribe Sign in My Account Settings Newsletters Topics you\n",
      "follow Sign out Your CNN account Sign in to your CNN account Terms of\n",
      "Use Privacy Policy Cookie Settings Ad Choices Accessibility & CC About\n",
      "Newsletters Transcripts © 2025 Cable News Network. A Warner Bros.\n",
      "Discovery Company. All Rights Reserved. CNN Sans ™ & © 2016 Cable News\n",
      "Network. Privacy Policy For privacy options, please see our privacy\n",
      "policy: https://www.cnn.com/privacy . Back Button Cookie List Search\n",
      "Icon Filter Icon Clear checkbox label label Apply Cancel Consent\n",
      "Leg.Interest checkbox label label checkbox label label checkbox label\n",
      "label Close\n"
     ]
    }
   ],
   "source": [
    "import textwrap\n",
    "print(textwrap.fill(text))"
   ]
  },
  {
   "cell_type": "code",
   "execution_count": 10,
   "metadata": {},
   "outputs": [],
   "source": [
    "all_tools = tools + [tool_push]"
   ]
  },
  {
   "cell_type": "code",
   "execution_count": 11,
   "metadata": {},
   "outputs": [],
   "source": [
    "\n",
    "llm = ChatOpenAI(model=\"gpt-4o-mini\")\n",
    "llm_with_tools = llm.bind_tools(all_tools)\n",
    "\n",
    "\n",
    "def chatbot(state: State):\n",
    "    return {\"messages\": [llm_with_tools.invoke(state[\"messages\"])]}\n"
   ]
  },
  {
   "cell_type": "code",
   "execution_count": 12,
   "metadata": {},
   "outputs": [
    {
     "data": {
      "image/png": "[encoded data removed]",
      "text/plain": [
       "<IPython.core.display.Image object>"
      ]
     },
     "metadata": {},
     "output_type": "display_data"
    }
   ],
   "source": [
    "\n",
    "graph_builder = StateGraph(State)\n",
    "graph_builder.add_node(\"chatbot\", chatbot)\n",
    "graph_builder.add_node(\"tools\", ToolNode(tools=all_tools))\n",
    "graph_builder.add_conditional_edges( \"chatbot\", tools_condition, \"tools\")\n",
    "graph_builder.add_edge(\"tools\", \"chatbot\")\n",
    "graph_builder.add_edge(START, \"chatbot\")\n",
    "\n",
    "memory = MemorySaver()\n",
    "graph = graph_builder.compile(checkpointer=memory)\n",
    "display(Image(graph.get_graph().draw_mermaid_png()))"
   ]
  },
  {
   "cell_type": "code",
   "execution_count": 13,
   "metadata": {},
   "outputs": [
    {
     "name": "stdout",
     "output_type": "stream",
     "text": [
      "* Running on local URL:  http://127.0.0.1:7860\n",
      "* To create a public link, set `share=True` in `launch()`.\n"
     ]
    },
    {
     "data": {
      "text/html": [
       "<div><iframe src=\"http://127.0.0.1:7860/\" width=\"100%\" height=\"500\" allow=\"autoplay; camera; microphone; clipboard-read; clipboard-write;\" frameborder=\"0\" allowfullscreen></iframe></div>"
      ],
      "text/plain": [
       "<IPython.core.display.HTML object>"
      ]
     },
     "metadata": {},
     "output_type": "display_data"
    },
    {
     "data": {
      "text/plain": []
     },
     "execution_count": 13,
     "metadata": {},
     "output_type": "execute_result"
    }
   ],
   "source": [
    "config = {\"configurable\": {\"thread_id\": \"10\"}}\n",
    "\n",
    "async def chat(user_input: str, history):\n",
    "    result = await graph.ainvoke({\"messages\": [{\"role\": \"user\", \"content\": user_input}]}, config=config)\n",
    "    return result[\"messages\"][-1].content\n",
    "\n",
    "\n",
    "gr.ChatInterface(chat, type=\"messages\").launch()"
   ]
  },
  {
   "cell_type": "code",
   "execution_count": null,
   "metadata": {},
   "outputs": [],
   "source": []
  }
 ],
 "metadata": {
  "kernelspec": {
   "display_name": ".venv",
   "language": "python",
   "name": "python3"
  },
  "language_info": {
   "codemirror_mode": {
    "name": "ipython",
    "version": 3
   },
   "file_extension": ".py",
   "mimetype": "text/x-python",
   "name": "python",
   "nbconvert_exporter": "python",
   "pygments_lexer": "ipython3",
   "version": "3.12.10"
  }
 },
 "nbformat": 4,
 "nbformat_minor": 2
}
