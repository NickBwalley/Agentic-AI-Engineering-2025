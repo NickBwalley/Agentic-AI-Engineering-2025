{
 "cells": [
  {
   "cell_type": "markdown",
   "metadata": {},
   "source": [
    "### And welcome to Week 4, Day 3 - more LangGraph.."
   ]
  },
  {
   "cell_type": "code",
   "execution_count": 1,
   "metadata": {},
   "outputs": [],
   "source": [
    "from typing import Annotated\n",
    "from langgraph.graph import StateGraph, START, END\n",
    "from langgraph.graph.message import add_messages\n",
    "from dotenv import load_dotenv\n",
    "from IPython.display import Image, display\n",
    "import gradio as gr\n",
    "from langgraph.prebuilt import ToolNode, tools_condition\n",
    "import requests\n",
    "import os\n",
    "from langchain_openai import ChatOpenAI\n",
    "from typing import TypedDict\n"
   ]
  },
  {
   "cell_type": "code",
   "execution_count": 2,
   "metadata": {},
   "outputs": [
    {
     "data": {
      "text/plain": [
       "True"
      ]
     },
     "execution_count": 2,
     "metadata": {},
     "output_type": "execute_result"
    }
   ],
   "source": [
    "# Our favorite first step! Crew was doing this for us, by the way.\n",
    "load_dotenv(override=True)\n"
   ]
  },
  {
   "cell_type": "markdown",
   "metadata": {},
   "source": [
    "### First, let's go set up LangSmith!\n",
    "\n",
    "https://langsmith.com"
   ]
  },
  {
   "cell_type": "markdown",
   "metadata": {},
   "source": [
    "### Next, here is a useful function in LangChain community:"
   ]
  },
  {
   "cell_type": "code",
   "execution_count": 6,
   "metadata": {},
   "outputs": [
    {
     "data": {
      "text/plain": [
       "\"Paris is the capital and largest city of France. With an estimated population of 2,048,472 residents in January 2025 in an area of more than 105 km2 (41 sq ... Paris is the capital and most populous city of France. Situated on the Seine River, in the north of the country, it is in the centre of the Île-de-France ... Paris, city and capital of France, located along the Seine River, in the north-central part of the country. Paris is one of the world's most important and ... Paris is the capital of France, the largest country of Europe with 550 000 km2 (65 millions inhabitants). Paris has 2.234 million inhabitants end 2011. The capital of France has been Paris since its liberation in 1944. NARRATOR: The Eiffel Tower is the best-known symbol of Paris, the capital of France. Paris is an important center for business and culture. With its wide ... Paris is the city of romance par excellence, the fashion capital and the best example of French art de vivre. Exploring Paris is an essential rite of passage ... Dive into the charm of Paris, the capital of France! Explore its rich history, iconic attractions, and delectable cuisine in our guide. The capital and by far the most important city of France is Paris, one of the world's preeminent cultural and commercial centres. Paris is the capital and most populous city of France. Situated on the Seine River, in the north of the country, it is in the centre of the Île- ...\""
      ]
     },
     "execution_count": 6,
     "metadata": {},
     "output_type": "execute_result"
    }
   ],
   "source": [
    "from langchain_community.utilities import GoogleSerperAPIWrapper\n",
    "\n",
    "serper = GoogleSerperAPIWrapper()\n",
    "serper.run(\"What is the capital of France?\")"
   ]
  },
  {
   "cell_type": "markdown",
   "metadata": {},
   "source": [
    "### Now here is a LangChain wrapper class for converting functions into Tools"
   ]
  },
  {
   "cell_type": "code",
   "execution_count": 7,
   "metadata": {},
   "outputs": [],
   "source": [
    "from langchain.agents import Tool\n",
    "\n",
    "tool_search =Tool(\n",
    "        name=\"search\",\n",
    "        func=serper.run,\n",
    "        description=\"Useful for when you need more information from an online search\"\n",
    "    )\n",
    "\n"
   ]
  },
  {
   "cell_type": "markdown",
   "metadata": {},
   "source": [
    "### Now we can try out the tool the langchain way"
   ]
  },
  {
   "cell_type": "code",
   "execution_count": 8,
   "metadata": {},
   "outputs": [
    {
     "data": {
      "text/plain": [
       "\"Paris is the capital and largest city of France. With an estimated population of 2,048,472 residents in January 2025 in an area of more than 105 km2 (41 sq ... Paris is the capital and most populous city of France. Situated on the Seine River, in the north of the country, it is in the centre of the Île-de-France ... Paris is the capital of France, the largest country of Europe with 550 000 km2 (65 millions inhabitants). Paris has 2.234 million inhabitants end 2011. Paris, city and capital of France, located along the Seine River, in the north-central part of the country. Paris is one of the world's most important and ... The capital of France has been Paris since its liberation in 1944. NARRATOR: The Eiffel Tower is the best-known symbol of Paris, the capital of France. Paris is an important center for business and culture. With its wide ... Paris is the city of romance par excellence, the fashion capital and the best example of French art de vivre. Exploring Paris is an essential rite of passage ... This stockshot provides illustrative images of Paris, capital of France, filmed in November 2020. It presents general views of the city, official buildings ... What Is the Capital of France? Paris. The very name brings to mind tree-lined boulevards, grand monuments, sidewalk cafes, and so much more. Paris became capital of France because France evolved from a federation of counties to a kingdom, where the king was living a Paris. The ...\""
      ]
     },
     "execution_count": 8,
     "metadata": {},
     "output_type": "execute_result"
    }
   ],
   "source": [
    "tool_search.invoke(\"What is the capital of France?\")"
   ]
  },
  {
   "cell_type": "markdown",
   "metadata": {},
   "source": [
    "### And now let's write a tool ourselves\n",
    "\n",
    "We'll pick a familiar one"
   ]
  },
  {
   "cell_type": "code",
   "execution_count": 9,
   "metadata": {},
   "outputs": [],
   "source": [
    "pushover_token = os.getenv(\"PUSHOVER_TOKEN\")\n",
    "pushover_user = os.getenv(\"PUSHOVER_USER\")\n",
    "pushover_url = \"https://api.pushover.net/1/messages.json\"\n",
    "\n",
    "def push(text: str):\n",
    "    \"\"\"Send a push notification to the user\"\"\"\n",
    "    requests.post(pushover_url, data = {\"token\": pushover_token, \"user\": pushover_user, \"message\": text})"
   ]
  },
  {
   "cell_type": "code",
   "execution_count": 10,
   "metadata": {},
   "outputs": [],
   "source": [
    "tool_push = Tool(\n",
    "        name=\"send_push_notification\",\n",
    "        func=push,\n",
    "        description=\"useful for when you want to send a push notification\"\n",
    "    )\n",
    "\n",
    "tool_push.invoke(\"Hello, me\")"
   ]
  },
  {
   "cell_type": "markdown",
   "metadata": {},
   "source": [
    "### Back to the Graph from yesterday\n",
    "\n",
    "One small change - using TypedDict instead of BaseModel for the State object\n",
    "\n",
    "When we implement tools, we always need to make 2 changes to the code:\n",
    "\n",
    "1. Changes to provide the tools to OpenAI in json when we make the call\n",
    "\n",
    "2. Changes to handle the results back: look for the model staying that the finish_reason==\"tool_calls\" and then retrieve the call, run the function, provide the results."
   ]
  },
  {
   "cell_type": "markdown",
   "metadata": {},
   "source": [
    "### Bring them together"
   ]
  },
  {
   "cell_type": "code",
   "execution_count": 11,
   "metadata": {},
   "outputs": [],
   "source": [
    "tools = [tool_search, tool_push]"
   ]
  },
  {
   "cell_type": "code",
   "execution_count": 12,
   "metadata": {},
   "outputs": [],
   "source": [
    "# Step 1: Define the State object\n",
    "class State(TypedDict):\n",
    "    messages: Annotated[list, add_messages]"
   ]
  },
  {
   "cell_type": "code",
   "execution_count": 13,
   "metadata": {},
   "outputs": [],
   "source": [
    "# Step 2: Start the Graph Builder with this State class\n",
    "graph_builder = StateGraph(State)"
   ]
  },
  {
   "cell_type": "code",
   "execution_count": 14,
   "metadata": {},
   "outputs": [],
   "source": [
    "# This is different:\n",
    "\n",
    "llm = ChatOpenAI(model=\"gpt-4o-mini\")\n",
    "llm_with_tools = llm.bind_tools(tools)"
   ]
  },
  {
   "cell_type": "code",
   "execution_count": 15,
   "metadata": {},
   "outputs": [
    {
     "data": {
      "text/plain": [
       "<langgraph.graph.state.StateGraph at 0x14aed3b1970>"
      ]
     },
     "execution_count": 15,
     "metadata": {},
     "output_type": "execute_result"
    }
   ],
   "source": [
    "# Step 3: Create a Node\n",
    "\n",
    "\n",
    "def chatbot(state: State):\n",
    "    return {\"messages\": [llm_with_tools.invoke(state[\"messages\"])]}\n",
    "\n",
    "graph_builder.add_node(\"chatbot\", chatbot)\n",
    "graph_builder.add_node(\"tools\", ToolNode(tools=tools))"
   ]
  },
  {
   "cell_type": "code",
   "execution_count": 16,
   "metadata": {},
   "outputs": [
    {
     "data": {
      "text/plain": [
       "<langgraph.graph.state.StateGraph at 0x14aed3b1970>"
      ]
     },
     "execution_count": 16,
     "metadata": {},
     "output_type": "execute_result"
    }
   ],
   "source": [
    "# Step 4: Create Edges\n",
    "\n",
    "\n",
    "graph_builder.add_conditional_edges( \"chatbot\", tools_condition, \"tools\")\n",
    "\n",
    "# Any time a tool is called, we return to the chatbot to decide the next step\n",
    "graph_builder.add_edge(\"tools\", \"chatbot\")\n",
    "graph_builder.add_edge(START, \"chatbot\")"
   ]
  },
  {
   "cell_type": "code",
   "execution_count": 17,
   "metadata": {},
   "outputs": [
    {
     "data": {
      "image/png": "[encoded data removed]",
      "text/plain": [
       "<IPython.core.display.Image object>"
      ]
     },
     "metadata": {},
     "output_type": "display_data"
    }
   ],
   "source": [
    "# Step 5: Compile the Graph\n",
    "graph = graph_builder.compile()\n",
    "display(Image(graph.get_graph().draw_mermaid_png()))"
   ]
  },
  {
   "cell_type": "markdown",
   "metadata": {},
   "source": [
    "### That's it! And, let's do this:"
   ]
  },
  {
   "cell_type": "code",
   "execution_count": 18,
   "metadata": {},
   "outputs": [
    {
     "name": "stdout",
     "output_type": "stream",
     "text": [
      "* Running on local URL:  http://127.0.0.1:7860\n",
      "* To create a public link, set `share=True` in `launch()`.\n"
     ]
    },
    {
     "data": {
      "text/html": [
       "<div><iframe src=\"http://127.0.0.1:7860/\" width=\"100%\" height=\"500\" allow=\"autoplay; camera; microphone; clipboard-read; clipboard-write;\" frameborder=\"0\" allowfullscreen></iframe></div>"
      ],
      "text/plain": [
       "<IPython.core.display.HTML object>"
      ]
     },
     "metadata": {},
     "output_type": "display_data"
    },
    {
     "data": {
      "text/plain": []
     },
     "execution_count": 18,
     "metadata": {},
     "output_type": "execute_result"
    }
   ],
   "source": [
    "def chat(user_input: str, history):\n",
    "    result = graph.invoke({\"messages\": [{\"role\": \"user\", \"content\": user_input}]})\n",
    "    return result[\"messages\"][-1].content\n",
    "\n",
    "\n",
    "gr.ChatInterface(chat, type=\"messages\").launch()"
   ]
  },
  {
   "cell_type": "markdown",
   "metadata": {},
   "source": [
    "## OK it's time to add Memory!\n",
    "\n",
    "### BUT WAIT!\n",
    "\n",
    "We have this whole Graph maintaining the state and appending to the state.\n",
    "\n",
    "Why isn't this handling memory?\n",
    "\n",
    "### This is a crucial point for understanding LangGraph\n",
    "\n",
    "> A super-step can be considered a single iteration over the graph nodes. Nodes that run in parallel are part of the same super-step, while nodes that run sequentially belong to separate super-steps.\n",
    "\n",
    "\n",
    "One \"Super-Step\" of the graph represents one invocation of passing messages between agents.\n",
    "\n",
    "In idomatic LangGraph, you call invoke to run your graph for each super-step; for each interaction.\n",
    "\n",
    "The reducer handles state updates automatically within one super-step, but not between them.\n",
    "\n",
    "That is what checkpointing achieves."
   ]
  },
  {
   "cell_type": "code",
   "execution_count": 19,
   "metadata": {},
   "outputs": [],
   "source": [
    "from langgraph.checkpoint.memory import MemorySaver\n",
    "\n",
    "memory = MemorySaver()"
   ]
  },
  {
   "cell_type": "code",
   "execution_count": 20,
   "metadata": {},
   "outputs": [
    {
     "data": {
      "image/png": "[encoded data removed]",
      "text/plain": [
       "<IPython.core.display.Image object>"
      ]
     },
     "metadata": {},
     "output_type": "display_data"
    }
   ],
   "source": [
    "# Steps 1 and 2\n",
    "graph_builder = StateGraph(State)\n",
    "\n",
    "\n",
    "# Step 3\n",
    "llm = ChatOpenAI(model=\"gpt-4o-mini\")\n",
    "llm_with_tools = llm.bind_tools(tools)\n",
    "\n",
    "def chatbot(state: State):\n",
    "    print(state)\n",
    "    return {\"messages\": [llm_with_tools.invoke(state[\"messages\"])]}\n",
    "\n",
    "graph_builder.add_node(\"chatbot\", chatbot)\n",
    "graph_builder.add_node(\"tools\", ToolNode(tools=tools))\n",
    "\n",
    "# Step 4\n",
    "graph_builder.add_conditional_edges( \"chatbot\", tools_condition, \"tools\")\n",
    "graph_builder.add_edge(\"tools\", \"chatbot\")\n",
    "graph_builder.add_edge(START, \"chatbot\")\n",
    "\n",
    "# Step 5\n",
    "graph = graph_builder.compile(checkpointer=memory)\n",
    "display(Image(graph.get_graph().draw_mermaid_png()))"
   ]
  },
  {
   "cell_type": "code",
   "execution_count": 21,
   "metadata": {},
   "outputs": [
    {
     "name": "stdout",
     "output_type": "stream",
     "text": [
      "* Running on local URL:  http://127.0.0.1:7861\n",
      "* To create a public link, set `share=True` in `launch()`.\n"
     ]
    },
    {
     "data": {
      "text/html": [
       "<div><iframe src=\"http://127.0.0.1:7861/\" width=\"100%\" height=\"500\" allow=\"autoplay; camera; microphone; clipboard-read; clipboard-write;\" frameborder=\"0\" allowfullscreen></iframe></div>"
      ],
      "text/plain": [
       "<IPython.core.display.HTML object>"
      ]
     },
     "metadata": {},
     "output_type": "display_data"
    },
    {
     "data": {
      "text/plain": []
     },
     "execution_count": 21,
     "metadata": {},
     "output_type": "execute_result"
    },
    {
     "name": "stdout",
     "output_type": "stream",
     "text": [
      "{'messages': [HumanMessage(content='Hey there!', additional_kwargs={}, response_metadata={}, id='4630a0cd-9ef7-45d1-aa9b-f8cadedbda7f')]}\n",
      "{'messages': [HumanMessage(content='Hey there!', additional_kwargs={}, response_metadata={}, id='4630a0cd-9ef7-45d1-aa9b-f8cadedbda7f'), AIMessage(content='Hello! How can I assist you today?', additional_kwargs={'refusal': None}, response_metadata={'token_usage': {'completion_tokens': 10, 'prompt_tokens': 91, 'total_tokens': 101, 'completion_tokens_details': {'accepted_prediction_tokens': 0, 'audio_tokens': 0, 'reasoning_tokens': 0, 'rejected_prediction_tokens': 0}, 'prompt_tokens_details': {'audio_tokens': 0, 'cached_tokens': 0}}, 'model_name': 'gpt-4o-mini-2024-07-18', 'system_fingerprint': 'fp_34a54ae93c', 'id': 'chatcmpl-BjJj1XaOX1qMJN3CvsXXU6uAQ69iV', 'service_tier': 'default', 'finish_reason': 'stop', 'logprobs': None}, id='run--19879389-cf9e-4a5d-a15e-90d6f09a0c5b-0', usage_metadata={'input_tokens': 91, 'output_tokens': 10, 'total_tokens': 101, 'input_token_details': {'audio': 0, 'cache_read': 0}, 'output_token_details': {'audio': 0, 'reasoning': 0}}), HumanMessage(content='My Name is Nick Bwalley and I am a Senior Developer. ', additional_kwargs={}, response_metadata={}, id='ec8be70e-029f-4f88-a027-19378256dbaf')]}\n",
      "{'messages': [HumanMessage(content='Hey there!', additional_kwargs={}, response_metadata={}, id='4630a0cd-9ef7-45d1-aa9b-f8cadedbda7f'), AIMessage(content='Hello! How can I assist you today?', additional_kwargs={'refusal': None}, response_metadata={'token_usage': {'completion_tokens': 10, 'prompt_tokens': 91, 'total_tokens': 101, 'completion_tokens_details': {'accepted_prediction_tokens': 0, 'audio_tokens': 0, 'reasoning_tokens': 0, 'rejected_prediction_tokens': 0}, 'prompt_tokens_details': {'audio_tokens': 0, 'cached_tokens': 0}}, 'model_name': 'gpt-4o-mini-2024-07-18', 'system_fingerprint': 'fp_34a54ae93c', 'id': 'chatcmpl-BjJj1XaOX1qMJN3CvsXXU6uAQ69iV', 'service_tier': 'default', 'finish_reason': 'stop', 'logprobs': None}, id='run--19879389-cf9e-4a5d-a15e-90d6f09a0c5b-0', usage_metadata={'input_tokens': 91, 'output_tokens': 10, 'total_tokens': 101, 'input_token_details': {'audio': 0, 'cache_read': 0}, 'output_token_details': {'audio': 0, 'reasoning': 0}}), HumanMessage(content='My Name is Nick Bwalley and I am a Senior Developer. ', additional_kwargs={}, response_metadata={}, id='ec8be70e-029f-4f88-a027-19378256dbaf'), AIMessage(content='Nice to meet you, Nick Bwalley! As a Senior Developer, you must have a wealth of experience. How can I help you today?', additional_kwargs={'refusal': None}, response_metadata={'token_usage': {'completion_tokens': 31, 'prompt_tokens': 123, 'total_tokens': 154, 'completion_tokens_details': {'accepted_prediction_tokens': 0, 'audio_tokens': 0, 'reasoning_tokens': 0, 'rejected_prediction_tokens': 0}, 'prompt_tokens_details': {'audio_tokens': 0, 'cached_tokens': 0}}, 'model_name': 'gpt-4o-mini-2024-07-18', 'system_fingerprint': 'fp_34a54ae93c', 'id': 'chatcmpl-BjJjZcsIB9dI5JcXqtyT7f0Aqz2QO', 'service_tier': 'default', 'finish_reason': 'stop', 'logprobs': None}, id='run--6b05df45-e83b-4bf5-b348-cbc464fb3cd5-0', usage_metadata={'input_tokens': 123, 'output_tokens': 31, 'total_tokens': 154, 'input_token_details': {'audio': 0, 'cache_read': 0}, 'output_token_details': {'audio': 0, 'reasoning': 0}}), HumanMessage(content='What is my role? ', additional_kwargs={}, response_metadata={}, id='b197cfa7-131e-49ca-bda7-cd0107d33d7c')]}\n"
     ]
    }
   ],
   "source": [
    "config = {\"configurable\": {\"thread_id\": \"1\"}}\n",
    "\n",
    "def chat(user_input: str, history):\n",
    "    result = graph.invoke({\"messages\": [{\"role\": \"user\", \"content\": user_input}]}, config=config)\n",
    "    return result[\"messages\"][-1].content\n",
    "\n",
    "\n",
    "gr.ChatInterface(chat, type=\"messages\").launch()"
   ]
  },
  {
   "cell_type": "code",
   "execution_count": 22,
   "metadata": {},
   "outputs": [
    {
     "data": {
      "text/plain": [
       "StateSnapshot(values={'messages': [HumanMessage(content='Hey there!', additional_kwargs={}, response_metadata={}, id='4630a0cd-9ef7-45d1-aa9b-f8cadedbda7f'), AIMessage(content='Hello! How can I assist you today?', additional_kwargs={'refusal': None}, response_metadata={'token_usage': {'completion_tokens': 10, 'prompt_tokens': 91, 'total_tokens': 101, 'completion_tokens_details': {'accepted_prediction_tokens': 0, 'audio_tokens': 0, 'reasoning_tokens': 0, 'rejected_prediction_tokens': 0}, 'prompt_tokens_details': {'audio_tokens': 0, 'cached_tokens': 0}}, 'model_name': 'gpt-4o-mini-2024-07-18', 'system_fingerprint': 'fp_34a54ae93c', 'id': 'chatcmpl-BjJj1XaOX1qMJN3CvsXXU6uAQ69iV', 'service_tier': 'default', 'finish_reason': 'stop', 'logprobs': None}, id='run--19879389-cf9e-4a5d-a15e-90d6f09a0c5b-0', usage_metadata={'input_tokens': 91, 'output_tokens': 10, 'total_tokens': 101, 'input_token_details': {'audio': 0, 'cache_read': 0}, 'output_token_details': {'audio': 0, 'reasoning': 0}}), HumanMessage(content='My Name is Nick Bwalley and I am a Senior Developer. ', additional_kwargs={}, response_metadata={}, id='ec8be70e-029f-4f88-a027-19378256dbaf'), AIMessage(content='Nice to meet you, Nick Bwalley! As a Senior Developer, you must have a wealth of experience. How can I help you today?', additional_kwargs={'refusal': None}, response_metadata={'token_usage': {'completion_tokens': 31, 'prompt_tokens': 123, 'total_tokens': 154, 'completion_tokens_details': {'accepted_prediction_tokens': 0, 'audio_tokens': 0, 'reasoning_tokens': 0, 'rejected_prediction_tokens': 0}, 'prompt_tokens_details': {'audio_tokens': 0, 'cached_tokens': 0}}, 'model_name': 'gpt-4o-mini-2024-07-18', 'system_fingerprint': 'fp_34a54ae93c', 'id': 'chatcmpl-BjJjZcsIB9dI5JcXqtyT7f0Aqz2QO', 'service_tier': 'default', 'finish_reason': 'stop', 'logprobs': None}, id='run--6b05df45-e83b-4bf5-b348-cbc464fb3cd5-0', usage_metadata={'input_tokens': 123, 'output_tokens': 31, 'total_tokens': 154, 'input_token_details': {'audio': 0, 'cache_read': 0}, 'output_token_details': {'audio': 0, 'reasoning': 0}}), HumanMessage(content='What is my role? ', additional_kwargs={}, response_metadata={}, id='b197cfa7-131e-49ca-bda7-cd0107d33d7c'), AIMessage(content=\"As a Senior Developer, your role typically involves:\\n\\n1. **Software Development**: Designing, coding, testing, and maintaining software applications.\\n2. **Technical Leadership**: Guiding junior developers, reviewing code, and ensuring best practices are followed.\\n3. **Project Management**: Collaborating with project managers to define project requirements, deadlines, and deliverables.\\n4. **Architecture Design**: Involvement in system architecture and design decisions, ensuring scalability and performance.\\n5. **Problem Solving**: Diagnosing and troubleshooting issues that arise during development or in production.\\n6. **Mentorship**: Providing mentorship and support to less experienced team members.\\n\\nYour specific responsibilities might vary based on your company and the projects you're working on. Would you like to know more about any specific area?\", additional_kwargs={'refusal': None}, response_metadata={'token_usage': {'completion_tokens': 161, 'prompt_tokens': 167, 'total_tokens': 328, 'completion_tokens_details': {'accepted_prediction_tokens': 0, 'audio_tokens': 0, 'reasoning_tokens': 0, 'rejected_prediction_tokens': 0}, 'prompt_tokens_details': {'audio_tokens': 0, 'cached_tokens': 0}}, 'model_name': 'gpt-4o-mini-2024-07-18', 'system_fingerprint': 'fp_34a54ae93c', 'id': 'chatcmpl-BjJjnkgKOY4AIGURiaOSEoTWf8Ipm', 'service_tier': 'default', 'finish_reason': 'stop', 'logprobs': None}, id='run--27cb903e-e6e4-4a1a-bdbe-ae3f77ef2e4a-0', usage_metadata={'input_tokens': 167, 'output_tokens': 161, 'total_tokens': 328, 'input_token_details': {'audio': 0, 'cache_read': 0}, 'output_token_details': {'audio': 0, 'reasoning': 0}})]}, next=(), config={'configurable': {'thread_id': '1', 'checkpoint_ns': '', 'checkpoint_id': '1f04b411-481b-6b2c-8007-3bf46e512d00'}}, metadata={'source': 'loop', 'writes': {'chatbot': {'messages': [AIMessage(content=\"As a Senior Developer, your role typically involves:\\n\\n1. **Software Development**: Designing, coding, testing, and maintaining software applications.\\n2. **Technical Leadership**: Guiding junior developers, reviewing code, and ensuring best practices are followed.\\n3. **Project Management**: Collaborating with project managers to define project requirements, deadlines, and deliverables.\\n4. **Architecture Design**: Involvement in system architecture and design decisions, ensuring scalability and performance.\\n5. **Problem Solving**: Diagnosing and troubleshooting issues that arise during development or in production.\\n6. **Mentorship**: Providing mentorship and support to less experienced team members.\\n\\nYour specific responsibilities might vary based on your company and the projects you're working on. Would you like to know more about any specific area?\", additional_kwargs={'refusal': None}, response_metadata={'token_usage': {'completion_tokens': 161, 'prompt_tokens': 167, 'total_tokens': 328, 'completion_tokens_details': {'accepted_prediction_tokens': 0, 'audio_tokens': 0, 'reasoning_tokens': 0, 'rejected_prediction_tokens': 0}, 'prompt_tokens_details': {'audio_tokens': 0, 'cached_tokens': 0}}, 'model_name': 'gpt-4o-mini-2024-07-18', 'system_fingerprint': 'fp_34a54ae93c', 'id': 'chatcmpl-BjJjnkgKOY4AIGURiaOSEoTWf8Ipm', 'service_tier': 'default', 'finish_reason': 'stop', 'logprobs': None}, id='run--27cb903e-e6e4-4a1a-bdbe-ae3f77ef2e4a-0', usage_metadata={'input_tokens': 167, 'output_tokens': 161, 'total_tokens': 328, 'input_token_details': {'audio': 0, 'cache_read': 0}, 'output_token_details': {'audio': 0, 'reasoning': 0}})]}}, 'step': 7, 'parents': {}, 'thread_id': '1'}, created_at='2025-06-17T06:05:33.748919+00:00', parent_config={'configurable': {'thread_id': '1', 'checkpoint_ns': '', 'checkpoint_id': '1f04b411-27b0-6d38-8006-3a740cf13885'}}, tasks=(), interrupts=())"
      ]
     },
     "execution_count": 22,
     "metadata": {},
     "output_type": "execute_result"
    }
   ],
   "source": [
    "graph.get_state(config)"
   ]
  },
  {
   "cell_type": "code",
   "execution_count": 23,
   "metadata": {},
   "outputs": [
    {
     "data": {
      "text/plain": [
       "[StateSnapshot(values={'messages': [HumanMessage(content='Hey there!', additional_kwargs={}, response_metadata={}, id='4630a0cd-9ef7-45d1-aa9b-f8cadedbda7f'), AIMessage(content='Hello! How can I assist you today?', additional_kwargs={'refusal': None}, response_metadata={'token_usage': {'completion_tokens': 10, 'prompt_tokens': 91, 'total_tokens': 101, 'completion_tokens_details': {'accepted_prediction_tokens': 0, 'audio_tokens': 0, 'reasoning_tokens': 0, 'rejected_prediction_tokens': 0}, 'prompt_tokens_details': {'audio_tokens': 0, 'cached_tokens': 0}}, 'model_name': 'gpt-4o-mini-2024-07-18', 'system_fingerprint': 'fp_34a54ae93c', 'id': 'chatcmpl-BjJj1XaOX1qMJN3CvsXXU6uAQ69iV', 'service_tier': 'default', 'finish_reason': 'stop', 'logprobs': None}, id='run--19879389-cf9e-4a5d-a15e-90d6f09a0c5b-0', usage_metadata={'input_tokens': 91, 'output_tokens': 10, 'total_tokens': 101, 'input_token_details': {'audio': 0, 'cache_read': 0}, 'output_token_details': {'audio': 0, 'reasoning': 0}}), HumanMessage(content='My Name is Nick Bwalley and I am a Senior Developer. ', additional_kwargs={}, response_metadata={}, id='ec8be70e-029f-4f88-a027-19378256dbaf'), AIMessage(content='Nice to meet you, Nick Bwalley! As a Senior Developer, you must have a wealth of experience. How can I help you today?', additional_kwargs={'refusal': None}, response_metadata={'token_usage': {'completion_tokens': 31, 'prompt_tokens': 123, 'total_tokens': 154, 'completion_tokens_details': {'accepted_prediction_tokens': 0, 'audio_tokens': 0, 'reasoning_tokens': 0, 'rejected_prediction_tokens': 0}, 'prompt_tokens_details': {'audio_tokens': 0, 'cached_tokens': 0}}, 'model_name': 'gpt-4o-mini-2024-07-18', 'system_fingerprint': 'fp_34a54ae93c', 'id': 'chatcmpl-BjJjZcsIB9dI5JcXqtyT7f0Aqz2QO', 'service_tier': 'default', 'finish_reason': 'stop', 'logprobs': None}, id='run--6b05df45-e83b-4bf5-b348-cbc464fb3cd5-0', usage_metadata={'input_tokens': 123, 'output_tokens': 31, 'total_tokens': 154, 'input_token_details': {'audio': 0, 'cache_read': 0}, 'output_token_details': {'audio': 0, 'reasoning': 0}}), HumanMessage(content='What is my role? ', additional_kwargs={}, response_metadata={}, id='b197cfa7-131e-49ca-bda7-cd0107d33d7c'), AIMessage(content=\"As a Senior Developer, your role typically involves:\\n\\n1. **Software Development**: Designing, coding, testing, and maintaining software applications.\\n2. **Technical Leadership**: Guiding junior developers, reviewing code, and ensuring best practices are followed.\\n3. **Project Management**: Collaborating with project managers to define project requirements, deadlines, and deliverables.\\n4. **Architecture Design**: Involvement in system architecture and design decisions, ensuring scalability and performance.\\n5. **Problem Solving**: Diagnosing and troubleshooting issues that arise during development or in production.\\n6. **Mentorship**: Providing mentorship and support to less experienced team members.\\n\\nYour specific responsibilities might vary based on your company and the projects you're working on. Would you like to know more about any specific area?\", additional_kwargs={'refusal': None}, response_metadata={'token_usage': {'completion_tokens': 161, 'prompt_tokens': 167, 'total_tokens': 328, 'completion_tokens_details': {'accepted_prediction_tokens': 0, 'audio_tokens': 0, 'reasoning_tokens': 0, 'rejected_prediction_tokens': 0}, 'prompt_tokens_details': {'audio_tokens': 0, 'cached_tokens': 0}}, 'model_name': 'gpt-4o-mini-2024-07-18', 'system_fingerprint': 'fp_34a54ae93c', 'id': 'chatcmpl-BjJjnkgKOY4AIGURiaOSEoTWf8Ipm', 'service_tier': 'default', 'finish_reason': 'stop', 'logprobs': None}, id='run--27cb903e-e6e4-4a1a-bdbe-ae3f77ef2e4a-0', usage_metadata={'input_tokens': 167, 'output_tokens': 161, 'total_tokens': 328, 'input_token_details': {'audio': 0, 'cache_read': 0}, 'output_token_details': {'audio': 0, 'reasoning': 0}})]}, next=(), config={'configurable': {'thread_id': '1', 'checkpoint_ns': '', 'checkpoint_id': '1f04b411-481b-6b2c-8007-3bf46e512d00'}}, metadata={'source': 'loop', 'writes': {'chatbot': {'messages': [AIMessage(content=\"As a Senior Developer, your role typically involves:\\n\\n1. **Software Development**: Designing, coding, testing, and maintaining software applications.\\n2. **Technical Leadership**: Guiding junior developers, reviewing code, and ensuring best practices are followed.\\n3. **Project Management**: Collaborating with project managers to define project requirements, deadlines, and deliverables.\\n4. **Architecture Design**: Involvement in system architecture and design decisions, ensuring scalability and performance.\\n5. **Problem Solving**: Diagnosing and troubleshooting issues that arise during development or in production.\\n6. **Mentorship**: Providing mentorship and support to less experienced team members.\\n\\nYour specific responsibilities might vary based on your company and the projects you're working on. Would you like to know more about any specific area?\", additional_kwargs={'refusal': None}, response_metadata={'token_usage': {'completion_tokens': 161, 'prompt_tokens': 167, 'total_tokens': 328, 'completion_tokens_details': {'accepted_prediction_tokens': 0, 'audio_tokens': 0, 'reasoning_tokens': 0, 'rejected_prediction_tokens': 0}, 'prompt_tokens_details': {'audio_tokens': 0, 'cached_tokens': 0}}, 'model_name': 'gpt-4o-mini-2024-07-18', 'system_fingerprint': 'fp_34a54ae93c', 'id': 'chatcmpl-BjJjnkgKOY4AIGURiaOSEoTWf8Ipm', 'service_tier': 'default', 'finish_reason': 'stop', 'logprobs': None}, id='run--27cb903e-e6e4-4a1a-bdbe-ae3f77ef2e4a-0', usage_metadata={'input_tokens': 167, 'output_tokens': 161, 'total_tokens': 328, 'input_token_details': {'audio': 0, 'cache_read': 0}, 'output_token_details': {'audio': 0, 'reasoning': 0}})]}}, 'step': 7, 'parents': {}, 'thread_id': '1'}, created_at='2025-06-17T06:05:33.748919+00:00', parent_config={'configurable': {'thread_id': '1', 'checkpoint_ns': '', 'checkpoint_id': '1f04b411-27b0-6d38-8006-3a740cf13885'}}, tasks=(), interrupts=()),\n",
       " StateSnapshot(values={'messages': [HumanMessage(content='Hey there!', additional_kwargs={}, response_metadata={}, id='4630a0cd-9ef7-45d1-aa9b-f8cadedbda7f'), AIMessage(content='Hello! How can I assist you today?', additional_kwargs={'refusal': None}, response_metadata={'token_usage': {'completion_tokens': 10, 'prompt_tokens': 91, 'total_tokens': 101, 'completion_tokens_details': {'accepted_prediction_tokens': 0, 'audio_tokens': 0, 'reasoning_tokens': 0, 'rejected_prediction_tokens': 0}, 'prompt_tokens_details': {'audio_tokens': 0, 'cached_tokens': 0}}, 'model_name': 'gpt-4o-mini-2024-07-18', 'system_fingerprint': 'fp_34a54ae93c', 'id': 'chatcmpl-BjJj1XaOX1qMJN3CvsXXU6uAQ69iV', 'service_tier': 'default', 'finish_reason': 'stop', 'logprobs': None}, id='run--19879389-cf9e-4a5d-a15e-90d6f09a0c5b-0', usage_metadata={'input_tokens': 91, 'output_tokens': 10, 'total_tokens': 101, 'input_token_details': {'audio': 0, 'cache_read': 0}, 'output_token_details': {'audio': 0, 'reasoning': 0}}), HumanMessage(content='My Name is Nick Bwalley and I am a Senior Developer. ', additional_kwargs={}, response_metadata={}, id='ec8be70e-029f-4f88-a027-19378256dbaf'), AIMessage(content='Nice to meet you, Nick Bwalley! As a Senior Developer, you must have a wealth of experience. How can I help you today?', additional_kwargs={'refusal': None}, response_metadata={'token_usage': {'completion_tokens': 31, 'prompt_tokens': 123, 'total_tokens': 154, 'completion_tokens_details': {'accepted_prediction_tokens': 0, 'audio_tokens': 0, 'reasoning_tokens': 0, 'rejected_prediction_tokens': 0}, 'prompt_tokens_details': {'audio_tokens': 0, 'cached_tokens': 0}}, 'model_name': 'gpt-4o-mini-2024-07-18', 'system_fingerprint': 'fp_34a54ae93c', 'id': 'chatcmpl-BjJjZcsIB9dI5JcXqtyT7f0Aqz2QO', 'service_tier': 'default', 'finish_reason': 'stop', 'logprobs': None}, id='run--6b05df45-e83b-4bf5-b348-cbc464fb3cd5-0', usage_metadata={'input_tokens': 123, 'output_tokens': 31, 'total_tokens': 154, 'input_token_details': {'audio': 0, 'cache_read': 0}, 'output_token_details': {'audio': 0, 'reasoning': 0}}), HumanMessage(content='What is my role? ', additional_kwargs={}, response_metadata={}, id='b197cfa7-131e-49ca-bda7-cd0107d33d7c')]}, next=('chatbot',), config={'configurable': {'thread_id': '1', 'checkpoint_ns': '', 'checkpoint_id': '1f04b411-27b0-6d38-8006-3a740cf13885'}}, metadata={'source': 'loop', 'writes': None, 'step': 6, 'parents': {}, 'thread_id': '1'}, created_at='2025-06-17T06:05:30.349701+00:00', parent_config={'configurable': {'thread_id': '1', 'checkpoint_ns': '', 'checkpoint_id': '1f04b411-27b0-6d37-8005-adb4a4ea5fb9'}}, tasks=(PregelTask(id='c0bfaab7-31c4-4bca-4590-60894a4b5769', name='chatbot', path=('__pregel_pull', 'chatbot'), error=None, interrupts=(), state=None, result={'messages': [AIMessage(content=\"As a Senior Developer, your role typically involves:\\n\\n1. **Software Development**: Designing, coding, testing, and maintaining software applications.\\n2. **Technical Leadership**: Guiding junior developers, reviewing code, and ensuring best practices are followed.\\n3. **Project Management**: Collaborating with project managers to define project requirements, deadlines, and deliverables.\\n4. **Architecture Design**: Involvement in system architecture and design decisions, ensuring scalability and performance.\\n5. **Problem Solving**: Diagnosing and troubleshooting issues that arise during development or in production.\\n6. **Mentorship**: Providing mentorship and support to less experienced team members.\\n\\nYour specific responsibilities might vary based on your company and the projects you're working on. Would you like to know more about any specific area?\", additional_kwargs={'refusal': None}, response_metadata={'token_usage': {'completion_tokens': 161, 'prompt_tokens': 167, 'total_tokens': 328, 'completion_tokens_details': {'accepted_prediction_tokens': 0, 'audio_tokens': 0, 'reasoning_tokens': 0, 'rejected_prediction_tokens': 0}, 'prompt_tokens_details': {'audio_tokens': 0, 'cached_tokens': 0}}, 'model_name': 'gpt-4o-mini-2024-07-18', 'system_fingerprint': 'fp_34a54ae93c', 'id': 'chatcmpl-BjJjnkgKOY4AIGURiaOSEoTWf8Ipm', 'service_tier': 'default', 'finish_reason': 'stop', 'logprobs': None}, id='run--27cb903e-e6e4-4a1a-bdbe-ae3f77ef2e4a-0', usage_metadata={'input_tokens': 167, 'output_tokens': 161, 'total_tokens': 328, 'input_token_details': {'audio': 0, 'cache_read': 0}, 'output_token_details': {'audio': 0, 'reasoning': 0}})]}),), interrupts=()),\n",
       " StateSnapshot(values={'messages': [HumanMessage(content='Hey there!', additional_kwargs={}, response_metadata={}, id='4630a0cd-9ef7-45d1-aa9b-f8cadedbda7f'), AIMessage(content='Hello! How can I assist you today?', additional_kwargs={'refusal': None}, response_metadata={'token_usage': {'completion_tokens': 10, 'prompt_tokens': 91, 'total_tokens': 101, 'completion_tokens_details': {'accepted_prediction_tokens': 0, 'audio_tokens': 0, 'reasoning_tokens': 0, 'rejected_prediction_tokens': 0}, 'prompt_tokens_details': {'audio_tokens': 0, 'cached_tokens': 0}}, 'model_name': 'gpt-4o-mini-2024-07-18', 'system_fingerprint': 'fp_34a54ae93c', 'id': 'chatcmpl-BjJj1XaOX1qMJN3CvsXXU6uAQ69iV', 'service_tier': 'default', 'finish_reason': 'stop', 'logprobs': None}, id='run--19879389-cf9e-4a5d-a15e-90d6f09a0c5b-0', usage_metadata={'input_tokens': 91, 'output_tokens': 10, 'total_tokens': 101, 'input_token_details': {'audio': 0, 'cache_read': 0}, 'output_token_details': {'audio': 0, 'reasoning': 0}}), HumanMessage(content='My Name is Nick Bwalley and I am a Senior Developer. ', additional_kwargs={}, response_metadata={}, id='ec8be70e-029f-4f88-a027-19378256dbaf'), AIMessage(content='Nice to meet you, Nick Bwalley! As a Senior Developer, you must have a wealth of experience. How can I help you today?', additional_kwargs={'refusal': None}, response_metadata={'token_usage': {'completion_tokens': 31, 'prompt_tokens': 123, 'total_tokens': 154, 'completion_tokens_details': {'accepted_prediction_tokens': 0, 'audio_tokens': 0, 'reasoning_tokens': 0, 'rejected_prediction_tokens': 0}, 'prompt_tokens_details': {'audio_tokens': 0, 'cached_tokens': 0}}, 'model_name': 'gpt-4o-mini-2024-07-18', 'system_fingerprint': 'fp_34a54ae93c', 'id': 'chatcmpl-BjJjZcsIB9dI5JcXqtyT7f0Aqz2QO', 'service_tier': 'default', 'finish_reason': 'stop', 'logprobs': None}, id='run--6b05df45-e83b-4bf5-b348-cbc464fb3cd5-0', usage_metadata={'input_tokens': 123, 'output_tokens': 31, 'total_tokens': 154, 'input_token_details': {'audio': 0, 'cache_read': 0}, 'output_token_details': {'audio': 0, 'reasoning': 0}})]}, next=('__start__',), config={'configurable': {'thread_id': '1', 'checkpoint_ns': '', 'checkpoint_id': '1f04b411-27b0-6d37-8005-adb4a4ea5fb9'}}, metadata={'source': 'input', 'writes': {'__start__': {'messages': [{'role': 'user', 'content': 'What is my role? '}]}}, 'step': 5, 'parents': {}, 'thread_id': '1'}, created_at='2025-06-17T06:05:30.349701+00:00', parent_config={'configurable': {'thread_id': '1', 'checkpoint_ns': '', 'checkpoint_id': '1f04b410-ab1a-62e5-8004-efbd6dbc1884'}}, tasks=(PregelTask(id='761ba6ad-dacd-eac6-3f5c-fbcfe9571566', name='__start__', path=('__pregel_pull', '__start__'), error=None, interrupts=(), state=None, result={'messages': [{'role': 'user', 'content': 'What is my role? '}]}),), interrupts=()),\n",
       " StateSnapshot(values={'messages': [HumanMessage(content='Hey there!', additional_kwargs={}, response_metadata={}, id='4630a0cd-9ef7-45d1-aa9b-f8cadedbda7f'), AIMessage(content='Hello! How can I assist you today?', additional_kwargs={'refusal': None}, response_metadata={'token_usage': {'completion_tokens': 10, 'prompt_tokens': 91, 'total_tokens': 101, 'completion_tokens_details': {'accepted_prediction_tokens': 0, 'audio_tokens': 0, 'reasoning_tokens': 0, 'rejected_prediction_tokens': 0}, 'prompt_tokens_details': {'audio_tokens': 0, 'cached_tokens': 0}}, 'model_name': 'gpt-4o-mini-2024-07-18', 'system_fingerprint': 'fp_34a54ae93c', 'id': 'chatcmpl-BjJj1XaOX1qMJN3CvsXXU6uAQ69iV', 'service_tier': 'default', 'finish_reason': 'stop', 'logprobs': None}, id='run--19879389-cf9e-4a5d-a15e-90d6f09a0c5b-0', usage_metadata={'input_tokens': 91, 'output_tokens': 10, 'total_tokens': 101, 'input_token_details': {'audio': 0, 'cache_read': 0}, 'output_token_details': {'audio': 0, 'reasoning': 0}}), HumanMessage(content='My Name is Nick Bwalley and I am a Senior Developer. ', additional_kwargs={}, response_metadata={}, id='ec8be70e-029f-4f88-a027-19378256dbaf'), AIMessage(content='Nice to meet you, Nick Bwalley! As a Senior Developer, you must have a wealth of experience. How can I help you today?', additional_kwargs={'refusal': None}, response_metadata={'token_usage': {'completion_tokens': 31, 'prompt_tokens': 123, 'total_tokens': 154, 'completion_tokens_details': {'accepted_prediction_tokens': 0, 'audio_tokens': 0, 'reasoning_tokens': 0, 'rejected_prediction_tokens': 0}, 'prompt_tokens_details': {'audio_tokens': 0, 'cached_tokens': 0}}, 'model_name': 'gpt-4o-mini-2024-07-18', 'system_fingerprint': 'fp_34a54ae93c', 'id': 'chatcmpl-BjJjZcsIB9dI5JcXqtyT7f0Aqz2QO', 'service_tier': 'default', 'finish_reason': 'stop', 'logprobs': None}, id='run--6b05df45-e83b-4bf5-b348-cbc464fb3cd5-0', usage_metadata={'input_tokens': 123, 'output_tokens': 31, 'total_tokens': 154, 'input_token_details': {'audio': 0, 'cache_read': 0}, 'output_token_details': {'audio': 0, 'reasoning': 0}})]}, next=(), config={'configurable': {'thread_id': '1', 'checkpoint_ns': '', 'checkpoint_id': '1f04b410-ab1a-62e5-8004-efbd6dbc1884'}}, metadata={'source': 'loop', 'writes': {'chatbot': {'messages': [AIMessage(content='Nice to meet you, Nick Bwalley! As a Senior Developer, you must have a wealth of experience. How can I help you today?', additional_kwargs={'refusal': None}, response_metadata={'token_usage': {'completion_tokens': 31, 'prompt_tokens': 123, 'total_tokens': 154, 'completion_tokens_details': {'accepted_prediction_tokens': 0, 'audio_tokens': 0, 'reasoning_tokens': 0, 'rejected_prediction_tokens': 0}, 'prompt_tokens_details': {'audio_tokens': 0, 'cached_tokens': 0}}, 'model_name': 'gpt-4o-mini-2024-07-18', 'system_fingerprint': 'fp_34a54ae93c', 'id': 'chatcmpl-BjJjZcsIB9dI5JcXqtyT7f0Aqz2QO', 'service_tier': 'default', 'finish_reason': 'stop', 'logprobs': None}, id='run--6b05df45-e83b-4bf5-b348-cbc464fb3cd5-0', usage_metadata={'input_tokens': 123, 'output_tokens': 31, 'total_tokens': 154, 'input_token_details': {'audio': 0, 'cache_read': 0}, 'output_token_details': {'audio': 0, 'reasoning': 0}})]}}, 'step': 4, 'parents': {}, 'thread_id': '1'}, created_at='2025-06-17T06:05:17.285654+00:00', parent_config={'configurable': {'thread_id': '1', 'checkpoint_ns': '', 'checkpoint_id': '1f04b410-9e0c-6bc2-8003-7e9be644ea54'}}, tasks=(), interrupts=()),\n",
       " StateSnapshot(values={'messages': [HumanMessage(content='Hey there!', additional_kwargs={}, response_metadata={}, id='4630a0cd-9ef7-45d1-aa9b-f8cadedbda7f'), AIMessage(content='Hello! How can I assist you today?', additional_kwargs={'refusal': None}, response_metadata={'token_usage': {'completion_tokens': 10, 'prompt_tokens': 91, 'total_tokens': 101, 'completion_tokens_details': {'accepted_prediction_tokens': 0, 'audio_tokens': 0, 'reasoning_tokens': 0, 'rejected_prediction_tokens': 0}, 'prompt_tokens_details': {'audio_tokens': 0, 'cached_tokens': 0}}, 'model_name': 'gpt-4o-mini-2024-07-18', 'system_fingerprint': 'fp_34a54ae93c', 'id': 'chatcmpl-BjJj1XaOX1qMJN3CvsXXU6uAQ69iV', 'service_tier': 'default', 'finish_reason': 'stop', 'logprobs': None}, id='run--19879389-cf9e-4a5d-a15e-90d6f09a0c5b-0', usage_metadata={'input_tokens': 91, 'output_tokens': 10, 'total_tokens': 101, 'input_token_details': {'audio': 0, 'cache_read': 0}, 'output_token_details': {'audio': 0, 'reasoning': 0}}), HumanMessage(content='My Name is Nick Bwalley and I am a Senior Developer. ', additional_kwargs={}, response_metadata={}, id='ec8be70e-029f-4f88-a027-19378256dbaf')]}, next=('chatbot',), config={'configurable': {'thread_id': '1', 'checkpoint_ns': '', 'checkpoint_id': '1f04b410-9e0c-6bc2-8003-7e9be644ea54'}}, metadata={'source': 'loop', 'writes': None, 'step': 3, 'parents': {}, 'thread_id': '1'}, created_at='2025-06-17T06:05:15.916998+00:00', parent_config={'configurable': {'thread_id': '1', 'checkpoint_ns': '', 'checkpoint_id': '1f04b410-9e0c-6bc1-8002-2efc712a24fc'}}, tasks=(PregelTask(id='abb6dc97-d80e-bdcf-fdcf-adaf5ff3fe31', name='chatbot', path=('__pregel_pull', 'chatbot'), error=None, interrupts=(), state=None, result={'messages': [AIMessage(content='Nice to meet you, Nick Bwalley! As a Senior Developer, you must have a wealth of experience. How can I help you today?', additional_kwargs={'refusal': None}, response_metadata={'token_usage': {'completion_tokens': 31, 'prompt_tokens': 123, 'total_tokens': 154, 'completion_tokens_details': {'accepted_prediction_tokens': 0, 'audio_tokens': 0, 'reasoning_tokens': 0, 'rejected_prediction_tokens': 0}, 'prompt_tokens_details': {'audio_tokens': 0, 'cached_tokens': 0}}, 'model_name': 'gpt-4o-mini-2024-07-18', 'system_fingerprint': 'fp_34a54ae93c', 'id': 'chatcmpl-BjJjZcsIB9dI5JcXqtyT7f0Aqz2QO', 'service_tier': 'default', 'finish_reason': 'stop', 'logprobs': None}, id='run--6b05df45-e83b-4bf5-b348-cbc464fb3cd5-0', usage_metadata={'input_tokens': 123, 'output_tokens': 31, 'total_tokens': 154, 'input_token_details': {'audio': 0, 'cache_read': 0}, 'output_token_details': {'audio': 0, 'reasoning': 0}})]}),), interrupts=()),\n",
       " StateSnapshot(values={'messages': [HumanMessage(content='Hey there!', additional_kwargs={}, response_metadata={}, id='4630a0cd-9ef7-45d1-aa9b-f8cadedbda7f'), AIMessage(content='Hello! How can I assist you today?', additional_kwargs={'refusal': None}, response_metadata={'token_usage': {'completion_tokens': 10, 'prompt_tokens': 91, 'total_tokens': 101, 'completion_tokens_details': {'accepted_prediction_tokens': 0, 'audio_tokens': 0, 'reasoning_tokens': 0, 'rejected_prediction_tokens': 0}, 'prompt_tokens_details': {'audio_tokens': 0, 'cached_tokens': 0}}, 'model_name': 'gpt-4o-mini-2024-07-18', 'system_fingerprint': 'fp_34a54ae93c', 'id': 'chatcmpl-BjJj1XaOX1qMJN3CvsXXU6uAQ69iV', 'service_tier': 'default', 'finish_reason': 'stop', 'logprobs': None}, id='run--19879389-cf9e-4a5d-a15e-90d6f09a0c5b-0', usage_metadata={'input_tokens': 91, 'output_tokens': 10, 'total_tokens': 101, 'input_token_details': {'audio': 0, 'cache_read': 0}, 'output_token_details': {'audio': 0, 'reasoning': 0}})]}, next=('__start__',), config={'configurable': {'thread_id': '1', 'checkpoint_ns': '', 'checkpoint_id': '1f04b410-9e0c-6bc1-8002-2efc712a24fc'}}, metadata={'source': 'input', 'writes': {'__start__': {'messages': [{'role': 'user', 'content': 'My Name is Nick Bwalley and I am a Senior Developer. '}]}}, 'step': 2, 'parents': {}, 'thread_id': '1'}, created_at='2025-06-17T06:05:15.916998+00:00', parent_config={'configurable': {'thread_id': '1', 'checkpoint_ns': '', 'checkpoint_id': '1f04b40f-698d-6b64-8001-830322724f84'}}, tasks=(PregelTask(id='66afaa3f-28d0-0f21-a078-7694bb10faf3', name='__start__', path=('__pregel_pull', '__start__'), error=None, interrupts=(), state=None, result={'messages': [{'role': 'user', 'content': 'My Name is Nick Bwalley and I am a Senior Developer. '}]}),), interrupts=()),\n",
       " StateSnapshot(values={'messages': [HumanMessage(content='Hey there!', additional_kwargs={}, response_metadata={}, id='4630a0cd-9ef7-45d1-aa9b-f8cadedbda7f'), AIMessage(content='Hello! How can I assist you today?', additional_kwargs={'refusal': None}, response_metadata={'token_usage': {'completion_tokens': 10, 'prompt_tokens': 91, 'total_tokens': 101, 'completion_tokens_details': {'accepted_prediction_tokens': 0, 'audio_tokens': 0, 'reasoning_tokens': 0, 'rejected_prediction_tokens': 0}, 'prompt_tokens_details': {'audio_tokens': 0, 'cached_tokens': 0}}, 'model_name': 'gpt-4o-mini-2024-07-18', 'system_fingerprint': 'fp_34a54ae93c', 'id': 'chatcmpl-BjJj1XaOX1qMJN3CvsXXU6uAQ69iV', 'service_tier': 'default', 'finish_reason': 'stop', 'logprobs': None}, id='run--19879389-cf9e-4a5d-a15e-90d6f09a0c5b-0', usage_metadata={'input_tokens': 91, 'output_tokens': 10, 'total_tokens': 101, 'input_token_details': {'audio': 0, 'cache_read': 0}, 'output_token_details': {'audio': 0, 'reasoning': 0}})]}, next=(), config={'configurable': {'thread_id': '1', 'checkpoint_ns': '', 'checkpoint_id': '1f04b40f-698d-6b64-8001-830322724f84'}}, metadata={'source': 'loop', 'writes': {'chatbot': {'messages': [AIMessage(content='Hello! How can I assist you today?', additional_kwargs={'refusal': None}, response_metadata={'token_usage': {'completion_tokens': 10, 'prompt_tokens': 91, 'total_tokens': 101, 'completion_tokens_details': {'accepted_prediction_tokens': 0, 'audio_tokens': 0, 'reasoning_tokens': 0, 'rejected_prediction_tokens': 0}, 'prompt_tokens_details': {'audio_tokens': 0, 'cached_tokens': 0}}, 'model_name': 'gpt-4o-mini-2024-07-18', 'system_fingerprint': 'fp_34a54ae93c', 'id': 'chatcmpl-BjJj1XaOX1qMJN3CvsXXU6uAQ69iV', 'service_tier': 'default', 'finish_reason': 'stop', 'logprobs': None}, id='run--19879389-cf9e-4a5d-a15e-90d6f09a0c5b-0', usage_metadata={'input_tokens': 91, 'output_tokens': 10, 'total_tokens': 101, 'input_token_details': {'audio': 0, 'cache_read': 0}, 'output_token_details': {'audio': 0, 'reasoning': 0}})]}}, 'step': 1, 'parents': {}, 'thread_id': '1'}, created_at='2025-06-17T06:04:43.568829+00:00', parent_config={'configurable': {'thread_id': '1', 'checkpoint_ns': '', 'checkpoint_id': '1f04b40f-597d-64dd-8000-4035d3b27e2b'}}, tasks=(), interrupts=()),\n",
       " StateSnapshot(values={'messages': [HumanMessage(content='Hey there!', additional_kwargs={}, response_metadata={}, id='4630a0cd-9ef7-45d1-aa9b-f8cadedbda7f')]}, next=('chatbot',), config={'configurable': {'thread_id': '1', 'checkpoint_ns': '', 'checkpoint_id': '1f04b40f-597d-64dd-8000-4035d3b27e2b'}}, metadata={'source': 'loop', 'writes': None, 'step': 0, 'parents': {}, 'thread_id': '1'}, created_at='2025-06-17T06:04:41.884386+00:00', parent_config={'configurable': {'thread_id': '1', 'checkpoint_ns': '', 'checkpoint_id': '1f04b40f-5979-6224-bfff-fffa81bf4426'}}, tasks=(PregelTask(id='18981e37-eb92-46b2-4335-407c31a0d78c', name='chatbot', path=('__pregel_pull', 'chatbot'), error=None, interrupts=(), state=None, result={'messages': [AIMessage(content='Hello! How can I assist you today?', additional_kwargs={'refusal': None}, response_metadata={'token_usage': {'completion_tokens': 10, 'prompt_tokens': 91, 'total_tokens': 101, 'completion_tokens_details': {'accepted_prediction_tokens': 0, 'audio_tokens': 0, 'reasoning_tokens': 0, 'rejected_prediction_tokens': 0}, 'prompt_tokens_details': {'audio_tokens': 0, 'cached_tokens': 0}}, 'model_name': 'gpt-4o-mini-2024-07-18', 'system_fingerprint': 'fp_34a54ae93c', 'id': 'chatcmpl-BjJj1XaOX1qMJN3CvsXXU6uAQ69iV', 'service_tier': 'default', 'finish_reason': 'stop', 'logprobs': None}, id='run--19879389-cf9e-4a5d-a15e-90d6f09a0c5b-0', usage_metadata={'input_tokens': 91, 'output_tokens': 10, 'total_tokens': 101, 'input_token_details': {'audio': 0, 'cache_read': 0}, 'output_token_details': {'audio': 0, 'reasoning': 0}})]}),), interrupts=()),\n",
       " StateSnapshot(values={'messages': []}, next=('__start__',), config={'configurable': {'thread_id': '1', 'checkpoint_ns': '', 'checkpoint_id': '1f04b40f-5979-6224-bfff-fffa81bf4426'}}, metadata={'source': 'input', 'writes': {'__start__': {'messages': [{'role': 'user', 'content': 'Hey there!'}]}}, 'step': -1, 'parents': {}, 'thread_id': '1'}, created_at='2025-06-17T06:04:41.882678+00:00', parent_config=None, tasks=(PregelTask(id='7089d9aa-df16-b905-87d7-35f8047fbd15', name='__start__', path=('__pregel_pull', '__start__'), error=None, interrupts=(), state=None, result={'messages': [{'role': 'user', 'content': 'Hey there!'}]}),), interrupts=())]"
      ]
     },
     "execution_count": 23,
     "metadata": {},
     "output_type": "execute_result"
    }
   ],
   "source": [
    "# Most recent first\n",
    "\n",
    "list(graph.get_state_history(config))"
   ]
  },
  {
   "cell_type": "markdown",
   "metadata": {},
   "source": [
    "### LangGraph gives you tools to set the state back to a prior point in time, to branch off:\n",
    "\n",
    "```\n",
    "config = {\"configurable\": {\"thread_id\": \"1\", \"checkpoint_id\": ...}}\n",
    "graph.invoke(None, config=config)\n",
    "```\n",
    "\n",
    "And this allows you to build stable systems that can be recovered and rerun from any prior checkpoint."
   ]
  },
  {
   "cell_type": "markdown",
   "metadata": {},
   "source": [
    "### And now let's store in SQL\n",
    "\n",
    "### And this is the power of LangGraph."
   ]
  },
  {
   "cell_type": "code",
   "execution_count": 28,
   "metadata": {},
   "outputs": [],
   "source": [
    "import sqlite3\n",
    "from langgraph.checkpoint.sqlite import SqliteSaver\n",
    "\n",
    "db_path = \"memory.db\"\n",
    "conn = sqlite3.connect(db_path, check_same_thread=False)\n",
    "sql_memory = SqliteSaver(conn)"
   ]
  },
  {
   "cell_type": "code",
   "execution_count": 29,
   "metadata": {},
   "outputs": [
    {
     "data": {
      "image/png": "[encoded data removed]",
      "text/plain": [
       "<IPython.core.display.Image object>"
      ]
     },
     "metadata": {},
     "output_type": "display_data"
    }
   ],
   "source": [
    "# Steps 1 and 2\n",
    "graph_builder = StateGraph(State)\n",
    "\n",
    "\n",
    "# Step 3\n",
    "llm = ChatOpenAI(model=\"gpt-4o-mini\")\n",
    "llm_with_tools = llm.bind_tools(tools)\n",
    "\n",
    "def chatbot(state: State):\n",
    "    print(state)\n",
    "    return {\"messages\": [llm_with_tools.invoke(state[\"messages\"])]}\n",
    "\n",
    "graph_builder.add_node(\"chatbot\", chatbot)\n",
    "graph_builder.add_node(\"tools\", ToolNode(tools=tools))\n",
    "\n",
    "# Step 4\n",
    "graph_builder.add_conditional_edges( \"chatbot\", tools_condition, \"tools\")\n",
    "graph_builder.add_edge(\"tools\", \"chatbot\")\n",
    "graph_builder.add_edge(START, \"chatbot\")\n",
    "\n",
    "# Step 5\n",
    "graph = graph_builder.compile(checkpointer=sql_memory)\n",
    "display(Image(graph.get_graph().draw_mermaid_png()))\n",
    " "
   ]
  },
  {
   "cell_type": "code",
   "execution_count": 30,
   "metadata": {},
   "outputs": [
    {
     "name": "stdout",
     "output_type": "stream",
     "text": [
      "* Running on local URL:  http://127.0.0.1:7863\n",
      "* To create a public link, set `share=True` in `launch()`.\n"
     ]
    },
    {
     "data": {
      "text/html": [
       "<div><iframe src=\"http://127.0.0.1:7863/\" width=\"100%\" height=\"500\" allow=\"autoplay; camera; microphone; clipboard-read; clipboard-write;\" frameborder=\"0\" allowfullscreen></iframe></div>"
      ],
      "text/plain": [
       "<IPython.core.display.HTML object>"
      ]
     },
     "metadata": {},
     "output_type": "display_data"
    },
    {
     "data": {
      "text/plain": []
     },
     "execution_count": 30,
     "metadata": {},
     "output_type": "execute_result"
    },
    {
     "name": "stdout",
     "output_type": "stream",
     "text": [
      "{'messages': [HumanMessage(content='Hey there!', additional_kwargs={}, response_metadata={}, id='3e2a6fe8-3885-4a69-89bf-d1a00e3f70c9')]}\n",
      "{'messages': [HumanMessage(content='Hey there!', additional_kwargs={}, response_metadata={}, id='3e2a6fe8-3885-4a69-89bf-d1a00e3f70c9'), AIMessage(content='Hello! How can I assist you today?', additional_kwargs={'refusal': None}, response_metadata={'token_usage': {'completion_tokens': 10, 'prompt_tokens': 91, 'total_tokens': 101, 'completion_tokens_details': {'accepted_prediction_tokens': 0, 'audio_tokens': 0, 'reasoning_tokens': 0, 'rejected_prediction_tokens': 0}, 'prompt_tokens_details': {'audio_tokens': 0, 'cached_tokens': 0}}, 'model_name': 'gpt-4o-mini-2024-07-18', 'system_fingerprint': 'fp_34a54ae93c', 'id': 'chatcmpl-BjJsZcwqYbpObGJqKpDSC56ss1iup', 'service_tier': 'default', 'finish_reason': 'stop', 'logprobs': None}, id='run--4e94691d-d723-4258-82c1-b6f14de08ee4-0', usage_metadata={'input_tokens': 91, 'output_tokens': 10, 'total_tokens': 101, 'input_token_details': {'audio': 0, 'cache_read': 0}, 'output_token_details': {'audio': 0, 'reasoning': 0}}), HumanMessage(content='My Name is Nick Bwalley and I am an AI Software Engineer with 4years of experience. ', additional_kwargs={}, response_metadata={}, id='fdd5fb29-c520-42b4-bc87-4cdf420a75f5')]}\n",
      "{'messages': [HumanMessage(content='Hey there!', additional_kwargs={}, response_metadata={}, id='3e2a6fe8-3885-4a69-89bf-d1a00e3f70c9'), AIMessage(content='Hello! How can I assist you today?', additional_kwargs={'refusal': None}, response_metadata={'token_usage': {'completion_tokens': 10, 'prompt_tokens': 91, 'total_tokens': 101, 'completion_tokens_details': {'accepted_prediction_tokens': 0, 'audio_tokens': 0, 'reasoning_tokens': 0, 'rejected_prediction_tokens': 0}, 'prompt_tokens_details': {'audio_tokens': 0, 'cached_tokens': 0}}, 'model_name': 'gpt-4o-mini-2024-07-18', 'system_fingerprint': 'fp_34a54ae93c', 'id': 'chatcmpl-BjJsZcwqYbpObGJqKpDSC56ss1iup', 'service_tier': 'default', 'finish_reason': 'stop', 'logprobs': None}, id='run--4e94691d-d723-4258-82c1-b6f14de08ee4-0', usage_metadata={'input_tokens': 91, 'output_tokens': 10, 'total_tokens': 101, 'input_token_details': {'audio': 0, 'cache_read': 0}, 'output_token_details': {'audio': 0, 'reasoning': 0}}), HumanMessage(content='My Name is Nick Bwalley and I am an AI Software Engineer with 4years of experience. ', additional_kwargs={}, response_metadata={}, id='fdd5fb29-c520-42b4-bc87-4cdf420a75f5'), AIMessage(content=\"Nice to meet you, Nick! How can I assist you today, whether it's related to AI, software engineering, or something else?\", additional_kwargs={'refusal': None}, response_metadata={'token_usage': {'completion_tokens': 28, 'prompt_tokens': 130, 'total_tokens': 158, 'completion_tokens_details': {'accepted_prediction_tokens': 0, 'audio_tokens': 0, 'reasoning_tokens': 0, 'rejected_prediction_tokens': 0}, 'prompt_tokens_details': {'audio_tokens': 0, 'cached_tokens': 0}}, 'model_name': 'gpt-4o-mini-2024-07-18', 'system_fingerprint': 'fp_34a54ae93c', 'id': 'chatcmpl-BjJszp1LnUbiJxTtMNpiYsgSaYJPA', 'service_tier': 'default', 'finish_reason': 'stop', 'logprobs': None}, id='run--ade577aa-9291-42e8-aa39-22a30b9aa694-0', usage_metadata={'input_tokens': 130, 'output_tokens': 28, 'total_tokens': 158, 'input_token_details': {'audio': 0, 'cache_read': 0}, 'output_token_details': {'audio': 0, 'reasoning': 0}}), HumanMessage(content='I want you to tell me 5 main programming language that I need to focus in and also 5 major skills that I need to have so that I can stand out of the rest in terms of business and making money with my skill set. So basically where to put my energy and focus on? ', additional_kwargs={}, response_metadata={}, id='0a457182-6072-4a1f-81e7-2b8491ee1965')]}\n",
      "{'messages': [HumanMessage(content='Hey there!', additional_kwargs={}, response_metadata={}, id='3e2a6fe8-3885-4a69-89bf-d1a00e3f70c9'), AIMessage(content='Hello! How can I assist you today?', additional_kwargs={'refusal': None}, response_metadata={'token_usage': {'completion_tokens': 10, 'prompt_tokens': 91, 'total_tokens': 101, 'completion_tokens_details': {'accepted_prediction_tokens': 0, 'audio_tokens': 0, 'reasoning_tokens': 0, 'rejected_prediction_tokens': 0}, 'prompt_tokens_details': {'audio_tokens': 0, 'cached_tokens': 0}}, 'model_name': 'gpt-4o-mini-2024-07-18', 'system_fingerprint': 'fp_34a54ae93c', 'id': 'chatcmpl-BjJsZcwqYbpObGJqKpDSC56ss1iup', 'service_tier': 'default', 'finish_reason': 'stop', 'logprobs': None}, id='run--4e94691d-d723-4258-82c1-b6f14de08ee4-0', usage_metadata={'input_tokens': 91, 'output_tokens': 10, 'total_tokens': 101, 'input_token_details': {'audio': 0, 'cache_read': 0}, 'output_token_details': {'audio': 0, 'reasoning': 0}}), HumanMessage(content='My Name is Nick Bwalley and I am an AI Software Engineer with 4years of experience. ', additional_kwargs={}, response_metadata={}, id='fdd5fb29-c520-42b4-bc87-4cdf420a75f5'), AIMessage(content=\"Nice to meet you, Nick! How can I assist you today, whether it's related to AI, software engineering, or something else?\", additional_kwargs={'refusal': None}, response_metadata={'token_usage': {'completion_tokens': 28, 'prompt_tokens': 130, 'total_tokens': 158, 'completion_tokens_details': {'accepted_prediction_tokens': 0, 'audio_tokens': 0, 'reasoning_tokens': 0, 'rejected_prediction_tokens': 0}, 'prompt_tokens_details': {'audio_tokens': 0, 'cached_tokens': 0}}, 'model_name': 'gpt-4o-mini-2024-07-18', 'system_fingerprint': 'fp_34a54ae93c', 'id': 'chatcmpl-BjJszp1LnUbiJxTtMNpiYsgSaYJPA', 'service_tier': 'default', 'finish_reason': 'stop', 'logprobs': None}, id='run--ade577aa-9291-42e8-aa39-22a30b9aa694-0', usage_metadata={'input_tokens': 130, 'output_tokens': 28, 'total_tokens': 158, 'input_token_details': {'audio': 0, 'cache_read': 0}, 'output_token_details': {'audio': 0, 'reasoning': 0}}), HumanMessage(content='I want you to tell me 5 main programming language that I need to focus in and also 5 major skills that I need to have so that I can stand out of the rest in terms of business and making money with my skill set. So basically where to put my energy and focus on? ', additional_kwargs={}, response_metadata={}, id='0a457182-6072-4a1f-81e7-2b8491ee1965'), AIMessage(content='', additional_kwargs={'tool_calls': [{'id': 'call_lP1ArbKuw2LM5KRgpP4MZPGn', 'function': {'arguments': '{\"__arg1\": \"top programming languages for AI and software engineering 2024\"}', 'name': 'search'}, 'type': 'function'}, {'id': 'call_8A7cwC3ImlAD7JuDpFYXMHsf', 'function': {'arguments': '{\"__arg1\": \"essential skills for software engineers to excel 2024\"}', 'name': 'search'}, 'type': 'function'}], 'refusal': None}, response_metadata={'token_usage': {'completion_tokens': 65, 'prompt_tokens': 226, 'total_tokens': 291, 'completion_tokens_details': {'accepted_prediction_tokens': 0, 'audio_tokens': 0, 'reasoning_tokens': 0, 'rejected_prediction_tokens': 0}, 'prompt_tokens_details': {'audio_tokens': 0, 'cached_tokens': 0}}, 'model_name': 'gpt-4o-mini-2024-07-18', 'system_fingerprint': 'fp_34a54ae93c', 'id': 'chatcmpl-BjJu3IdGoBSSwzbuFQbCVeRzEEPlp', 'service_tier': 'default', 'finish_reason': 'tool_calls', 'logprobs': None}, id='run--e62174b9-387b-411b-af2b-657d5ddb45b4-0', tool_calls=[{'name': 'search', 'args': {'__arg1': 'top programming languages for AI and software engineering 2024'}, 'id': 'call_lP1ArbKuw2LM5KRgpP4MZPGn', 'type': 'tool_call'}, {'name': 'search', 'args': {'__arg1': 'essential skills for software engineers to excel 2024'}, 'id': 'call_8A7cwC3ImlAD7JuDpFYXMHsf', 'type': 'tool_call'}], usage_metadata={'input_tokens': 226, 'output_tokens': 65, 'total_tokens': 291, 'input_token_details': {'audio': 0, 'cache_read': 0}, 'output_token_details': {'audio': 0, 'reasoning': 0}}), ToolMessage(content='Python remains the go-to language for its simplicity and extensive resources, while Java, R, Julia, and C++ offer unique strengths for specific AI applications. Specialized languages like Lisp, Prolog, and Haskell also play important roles in tackling unique AI challenges.', name='search', id='ef451e0c-32f4-42b8-8efe-0466feb89f79', tool_call_id='call_lP1ArbKuw2LM5KRgpP4MZPGn'), ToolMessage(content='What Are the Top Skills for Software Developers? ___Artificial intelligence and machine learning. ___Infrastructure as code. ___Secure coding practices. ___Programming and scripting languages. ___Data structures and algorithms. ___Git and GitHub. ___Database and SQL knowledge. ___Communication and collaboration.', name='search', id='c1c2ea84-a76d-47e3-964a-5a378e6ca9b4', tool_call_id='call_8A7cwC3ImlAD7JuDpFYXMHsf')]}\n"
     ]
    }
   ],
   "source": [
    "config = {\"configurable\": {\"thread_id\": \"3\"}}\n",
    "\n",
    "def chat(user_input: str, history):\n",
    "    result = graph.invoke({\"messages\": [{\"role\": \"user\", \"content\": user_input}]}, config=config)\n",
    "    return result[\"messages\"][-1].content\n",
    "\n",
    "\n",
    "gr.ChatInterface(chat, type=\"messages\").launch()"
   ]
  },
  {
   "cell_type": "code",
   "execution_count": 31,
   "metadata": {},
   "outputs": [],
   "source": [
    "# You can run this command to close the connection after use \n",
    "# conn.close()"
   ]
  },
  {
   "cell_type": "code",
   "execution_count": null,
   "metadata": {},
   "outputs": [],
   "source": []
  }
 ],
 "metadata": {
  "kernelspec": {
   "display_name": ".venv",
   "language": "python",
   "name": "python3"
  },
  "language_info": {
   "codemirror_mode": {
    "name": "ipython",
    "version": 3
   },
   "file_extension": ".py",
   "mimetype": "text/x-python",
   "name": "python",
   "nbconvert_exporter": "python",
   "pygments_lexer": "ipython3",
   "version": "3.12.10"
  }
 },
 "nbformat": 4,
 "nbformat_minor": 2
}
